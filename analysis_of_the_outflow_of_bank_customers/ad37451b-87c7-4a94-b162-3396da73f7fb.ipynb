{
 "cells": [
  {
   "cell_type": "markdown",
   "metadata": {
    "toc": true
   },
   "source": [
    "<h1>Оглавление<span class=\"tocSkip\"></span></h1>\n",
    "<div class=\"toc\"><ul class=\"toc-item\"><li><span><a href=\"#Материалы\" data-toc-modified-id=\"Материалы-1\"><span class=\"toc-item-num\">1&nbsp;&nbsp;</span>Материалы</a></span></li><li><span><a href=\"#Загрузка-данных\" data-toc-modified-id=\"Загрузка-данных-2\"><span class=\"toc-item-num\">2&nbsp;&nbsp;</span>Загрузка данных</a></span></li><li><span><a href=\"#Подготовка-данных\" data-toc-modified-id=\"Подготовка-данных-3\"><span class=\"toc-item-num\">3&nbsp;&nbsp;</span>Подготовка данных</a></span><ul class=\"toc-item\"><li><span><a href=\"#Общая-информация-о-датасете\" data-toc-modified-id=\"Общая-информация-о-датасете-3.1\"><span class=\"toc-item-num\">3.1&nbsp;&nbsp;</span>Общая информация о датасете</a></span></li><li><span><a href=\"#Преобразование-типов-данных\" data-toc-modified-id=\"Преобразование-типов-данных-3.2\"><span class=\"toc-item-num\">3.2&nbsp;&nbsp;</span>Преобразование типов данных</a></span></li><li><span><a href=\"#Обработка-пропусков\" data-toc-modified-id=\"Обработка-пропусков-3.3\"><span class=\"toc-item-num\">3.3&nbsp;&nbsp;</span>Обработка пропусков</a></span></li><li><span><a href=\"#Анализ-выбросов\" data-toc-modified-id=\"Анализ-выбросов-3.4\"><span class=\"toc-item-num\">3.4&nbsp;&nbsp;</span>Анализ выбросов</a></span></li></ul></li><li><span><a href=\"#Исследовательский-анализ-данных\" data-toc-modified-id=\"Исследовательский-анализ-данных-4\"><span class=\"toc-item-num\">4&nbsp;&nbsp;</span>Исследовательский анализ данных</a></span><ul class=\"toc-item\"><li><span><a href=\"#Среднестатистический-портрет-клиента\" data-toc-modified-id=\"Среднестатистический-портрет-клиента-4.1\"><span class=\"toc-item-num\">4.1&nbsp;&nbsp;</span>Среднестатистический портрет клиента</a></span></li><li><span><a href=\"#Распределение-признаков-по-группам:-ушёл-/-остался\" data-toc-modified-id=\"Распределение-признаков-по-группам:-ушёл-/-остался-4.2\"><span class=\"toc-item-num\">4.2&nbsp;&nbsp;</span>Распределение признаков по группам: ушёл / остался</a></span></li></ul></li><li><span><a href=\"#Кластеризация-клиентов\" data-toc-modified-id=\"Кластеризация-клиентов-5\"><span class=\"toc-item-num\">5&nbsp;&nbsp;</span>Кластеризация клиентов</a></span></li><li><span><a href=\"#Проверка-гипотез\" data-toc-modified-id=\"Проверка-гипотез-6\"><span class=\"toc-item-num\">6&nbsp;&nbsp;</span>Проверка гипотез</a></span><ul class=\"toc-item\"><li><span><a href=\"#Сравнение-среднего-дохода-у-ушедших-и-оставшихся-клиентов\" data-toc-modified-id=\"Сравнение-среднего-дохода-у-ушедших-и-оставшихся-клиентов-6.1\"><span class=\"toc-item-num\">6.1&nbsp;&nbsp;</span>Сравнение среднего дохода у ушедших и оставшихся клиентов</a></span></li><li><span><a href=\"#Сравнение-активности-ушедших-и-оставшихся-клиентов\" data-toc-modified-id=\"Сравнение-активности-ушедших-и-оставшихся-клиентов-6.2\"><span class=\"toc-item-num\">6.2&nbsp;&nbsp;</span>Сравнение активности ушедших и оставшихся клиентов</a></span></li></ul></li><li><span><a href=\"#Общие-выводы-и-рекомендации\" data-toc-modified-id=\"Общие-выводы-и-рекомендации-7\"><span class=\"toc-item-num\">7&nbsp;&nbsp;</span>Общие выводы и рекомендации</a></span></li></ul></div>"
   ]
  },
  {
   "cell_type": "markdown",
   "metadata": {},
   "source": [
    "# Банки - Анализ оттока клиентов"
   ]
  },
  {
   "cell_type": "markdown",
   "metadata": {},
   "source": [
    "## Материалы\n",
    "[Презентация](https://disk.yandex.ru/i/AwLUBPonHPWScg)\n",
    "[Дашборд](https://public.tableau.com/views/Bank_16529810168700/Bank?:language=en-US&publish=yes&:display_count=n&:origin=viz_share_link)"
   ]
  },
  {
   "cell_type": "markdown",
   "metadata": {},
   "source": [
    "**Цель:**\n",
    "- исследовать возможные причины ухода клиентов банка \"Метанпром\" и разработать рекомендации по их удержанию."
   ]
  },
  {
   "cell_type": "markdown",
   "metadata": {},
   "source": [
    "**Задачи:**\n",
    "- провести исследовательский анализ данных;\n",
    "- выделить портреты клиентов, которые склонны уходить из банка;\n",
    "- проверить гипотезы;\n",
    "- cформулировать основные выводы и разработать рекомендации по повышению качества работы с клиентами.\n",
    "\n",
    "**Гипотезы:**\n",
    "1. различие дохода между теми клиентами, которые ушли, и теми, которые остались;\n",
    "2. выбрать одну из возможных гипотез:\n",
    "    - различие в количестве продуктов, которыми пользуются клиенты,\n",
    "    - различие в балансе на счете,\n",
    "    - различие доли ушедших по городам расположения банков,\n",
    "    - влияние возраста на уход из банка,\n",
    "    - различия в баллах кредитного скоринга и наличие кредитной карты."
   ]
  },
  {
   "cell_type": "markdown",
   "metadata": {},
   "source": [
    "**Описание данных:**\n",
    "- `userid` — идентификатор пользователя,\n",
    "- `score` — баллы кредитного скоринга,\n",
    "- `City` — город,\n",
    "- `Gender` — пол,\n",
    "- `Age` — возраст,\n",
    "- `Objects` — количество объектов в собственности,\n",
    "- `Balance` — баланс на счёте,\n",
    "- `Products` — количество продуктов, которыми пользуется клиент,\n",
    "- `CreditCard` — есть ли кредитная карта,\n",
    "- `Loyalty` — активный клиент,\n",
    "- `estimated_salary` — заработная плата клиента,\n",
    "- `Churn` — ушёл или нет."
   ]
  },
  {
   "cell_type": "markdown",
   "metadata": {},
   "source": [
    "## Загрузка данных"
   ]
  },
  {
   "cell_type": "markdown",
   "metadata": {},
   "source": [
    "Импортируем необходимые библиотеки:"
   ]
  },
  {
   "cell_type": "code",
   "execution_count": 1,
   "metadata": {},
   "outputs": [],
   "source": [
    "import pandas as pd\n",
    "from sklearn.preprocessing import LabelEncoder\n",
    "import seaborn as sns\n",
    "import matplotlib.pyplot as plt\n",
    "from sklearn.preprocessing import StandardScaler\n",
    "from sklearn.cluster import KMeans\n",
    "from scipy.cluster.hierarchy import dendrogram, linkage\n",
    "import numpy as np\n",
    "from scipy import stats as st"
   ]
  },
  {
   "cell_type": "markdown",
   "metadata": {},
   "source": [
    "Прочитаем файл:"
   ]
  },
  {
   "cell_type": "code",
   "execution_count": 2,
   "metadata": {},
   "outputs": [],
   "source": [
    "df = pd.read_csv('bank_dataset.csv')"
   ]
  },
  {
   "cell_type": "markdown",
   "metadata": {},
   "source": [
    "## Подготовка данных"
   ]
  },
  {
   "cell_type": "markdown",
   "metadata": {},
   "source": [
    "**Этапы:**\n",
    "- Изучить общую информацию о датасете;\n",
    "- Заменить названия столбцов при необходимости;\n",
    "- Откорректировать типы данных при необходимости;\n",
    "- Обработать пропуски, дубликаты;\n",
    "- Проанализировать выбросы."
   ]
  },
  {
   "cell_type": "markdown",
   "metadata": {},
   "source": [
    "### Общая информация о датасете"
   ]
  },
  {
   "cell_type": "markdown",
   "metadata": {},
   "source": [
    "Напишем функцию для просмотра и получения общей информации о данных:"
   ]
  },
  {
   "cell_type": "code",
   "execution_count": 3,
   "metadata": {},
   "outputs": [],
   "source": [
    "def inspect(df):\n",
    "    df.columns = [x.lower() for x in df.columns.values]\n",
    "    display(df.head()) \n",
    "    df.info()\n",
    "    print ('Количество дубликатов -', df.duplicated().sum())\n",
    "    return df"
   ]
  },
  {
   "cell_type": "markdown",
   "metadata": {},
   "source": [
    "Просмотрим данные, применив функцию:"
   ]
  },
  {
   "cell_type": "code",
   "execution_count": 4,
   "metadata": {},
   "outputs": [
    {
     "data": {
      "text/html": [
       "<div>\n",
       "<style scoped>\n",
       "    .dataframe tbody tr th:only-of-type {\n",
       "        vertical-align: middle;\n",
       "    }\n",
       "\n",
       "    .dataframe tbody tr th {\n",
       "        vertical-align: top;\n",
       "    }\n",
       "\n",
       "    .dataframe thead th {\n",
       "        text-align: right;\n",
       "    }\n",
       "</style>\n",
       "<table border=\"1\" class=\"dataframe\">\n",
       "  <thead>\n",
       "    <tr style=\"text-align: right;\">\n",
       "      <th></th>\n",
       "      <th>userid</th>\n",
       "      <th>score</th>\n",
       "      <th>city</th>\n",
       "      <th>gender</th>\n",
       "      <th>age</th>\n",
       "      <th>objects</th>\n",
       "      <th>balance</th>\n",
       "      <th>products</th>\n",
       "      <th>creditcard</th>\n",
       "      <th>loyalty</th>\n",
       "      <th>estimated_salary</th>\n",
       "      <th>churn</th>\n",
       "    </tr>\n",
       "  </thead>\n",
       "  <tbody>\n",
       "    <tr>\n",
       "      <th>0</th>\n",
       "      <td>15677338</td>\n",
       "      <td>619</td>\n",
       "      <td>Ярославль</td>\n",
       "      <td>Ж</td>\n",
       "      <td>42</td>\n",
       "      <td>2</td>\n",
       "      <td>NaN</td>\n",
       "      <td>1</td>\n",
       "      <td>1</td>\n",
       "      <td>1</td>\n",
       "      <td>101348.88</td>\n",
       "      <td>1</td>\n",
       "    </tr>\n",
       "    <tr>\n",
       "      <th>1</th>\n",
       "      <td>15690047</td>\n",
       "      <td>608</td>\n",
       "      <td>Рыбинск</td>\n",
       "      <td>Ж</td>\n",
       "      <td>41</td>\n",
       "      <td>1</td>\n",
       "      <td>83807.86</td>\n",
       "      <td>1</td>\n",
       "      <td>0</td>\n",
       "      <td>1</td>\n",
       "      <td>112542.58</td>\n",
       "      <td>0</td>\n",
       "    </tr>\n",
       "    <tr>\n",
       "      <th>2</th>\n",
       "      <td>15662040</td>\n",
       "      <td>502</td>\n",
       "      <td>Ярославль</td>\n",
       "      <td>Ж</td>\n",
       "      <td>42</td>\n",
       "      <td>8</td>\n",
       "      <td>159660.80</td>\n",
       "      <td>3</td>\n",
       "      <td>1</td>\n",
       "      <td>0</td>\n",
       "      <td>113931.57</td>\n",
       "      <td>1</td>\n",
       "    </tr>\n",
       "    <tr>\n",
       "      <th>3</th>\n",
       "      <td>15744090</td>\n",
       "      <td>699</td>\n",
       "      <td>Ярославль</td>\n",
       "      <td>Ж</td>\n",
       "      <td>39</td>\n",
       "      <td>1</td>\n",
       "      <td>NaN</td>\n",
       "      <td>2</td>\n",
       "      <td>0</td>\n",
       "      <td>0</td>\n",
       "      <td>93826.63</td>\n",
       "      <td>0</td>\n",
       "    </tr>\n",
       "    <tr>\n",
       "      <th>4</th>\n",
       "      <td>15780624</td>\n",
       "      <td>850</td>\n",
       "      <td>Рыбинск</td>\n",
       "      <td>Ж</td>\n",
       "      <td>43</td>\n",
       "      <td>2</td>\n",
       "      <td>125510.82</td>\n",
       "      <td>1</td>\n",
       "      <td>1</td>\n",
       "      <td>1</td>\n",
       "      <td>79084.10</td>\n",
       "      <td>0</td>\n",
       "    </tr>\n",
       "  </tbody>\n",
       "</table>\n",
       "</div>"
      ],
      "text/plain": [
       "     userid  score       city gender  age  objects    balance  products  \\\n",
       "0  15677338    619  Ярославль      Ж   42        2        NaN         1   \n",
       "1  15690047    608    Рыбинск      Ж   41        1   83807.86         1   \n",
       "2  15662040    502  Ярославль      Ж   42        8  159660.80         3   \n",
       "3  15744090    699  Ярославль      Ж   39        1        NaN         2   \n",
       "4  15780624    850    Рыбинск      Ж   43        2  125510.82         1   \n",
       "\n",
       "   creditcard  loyalty  estimated_salary  churn  \n",
       "0           1        1         101348.88      1  \n",
       "1           0        1         112542.58      0  \n",
       "2           1        0         113931.57      1  \n",
       "3           0        0          93826.63      0  \n",
       "4           1        1          79084.10      0  "
      ]
     },
     "metadata": {},
     "output_type": "display_data"
    },
    {
     "name": "stdout",
     "output_type": "stream",
     "text": [
      "<class 'pandas.core.frame.DataFrame'>\n",
      "RangeIndex: 10000 entries, 0 to 9999\n",
      "Data columns (total 12 columns):\n",
      " #   Column            Non-Null Count  Dtype  \n",
      "---  ------            --------------  -----  \n",
      " 0   userid            10000 non-null  int64  \n",
      " 1   score             10000 non-null  int64  \n",
      " 2   city              10000 non-null  object \n",
      " 3   gender            10000 non-null  object \n",
      " 4   age               10000 non-null  int64  \n",
      " 5   objects           10000 non-null  int64  \n",
      " 6   balance           6383 non-null   float64\n",
      " 7   products          10000 non-null  int64  \n",
      " 8   creditcard        10000 non-null  int64  \n",
      " 9   loyalty           10000 non-null  int64  \n",
      " 10  estimated_salary  10000 non-null  float64\n",
      " 11  churn             10000 non-null  int64  \n",
      "dtypes: float64(2), int64(8), object(2)\n",
      "memory usage: 937.6+ KB\n",
      "Количество дубликатов - 0\n"
     ]
    }
   ],
   "source": [
    "df = inspect(df)"
   ]
  },
  {
   "cell_type": "markdown",
   "metadata": {},
   "source": [
    "- Датафрейм достаточно большой для анализа: 10000 наблюдений и 12 полей - уникальный ID клиента, 10 признаков и целевая переменная.\n",
    "- Не все признаки численные, а значит есть необходимость преобразования категориальных данных в числовые для применения алгоритмов.\n",
    "- Присутствуют пропуски значений в столбце `balance` (баланс на счете). Пропуски следует проанализировать.\n",
    "- Дубликатов в данных нет."
   ]
  },
  {
   "cell_type": "markdown",
   "metadata": {},
   "source": [
    "### Преобразование типов данных"
   ]
  },
  {
   "cell_type": "markdown",
   "metadata": {},
   "source": [
    "Выполним преобразование категориальных переменных в числовые. Для этого используем класс LabelEncoder() из модуля sklearn.preprocessing:"
   ]
  },
  {
   "cell_type": "code",
   "execution_count": 5,
   "metadata": {
    "scrolled": true
   },
   "outputs": [
    {
     "name": "stdout",
     "output_type": "stream",
     "text": [
      "['Ярославль' 'Рыбинск' 'Ростов Великий']\n",
      "[2 1 0]\n",
      "****************************************\n",
      "['Ж' 'М']\n",
      "[0 1]\n",
      "****************************************\n"
     ]
    }
   ],
   "source": [
    "# создадим переменную класса LabelEncoder - кодировщик\n",
    "encoder =  LabelEncoder()\n",
    "\n",
    "# используем цикл для замены категорий числовыми лейблами\n",
    "columns = ['city', 'gender']\n",
    "for column in columns:\n",
    "    print(df[column].unique())\n",
    "    df[column] = encoder.fit_transform(df[column]) # используем кодировщик, чтобы \"перевести\" строковые названия в числа\n",
    "    print(df[column].unique())\n",
    "    print(40*'*')"
   ]
  },
  {
   "cell_type": "markdown",
   "metadata": {},
   "source": [
    "### Обработка пропусков"
   ]
  },
  {
   "cell_type": "markdown",
   "metadata": {},
   "source": [
    "Проверим, есть ли какие-то признаки/категории, где пропуски значений в столбце `balance` преобладают.\n",
    "\n",
    "Для этого категоризируем данные по остатку на счете на две группы: группа с положительным (или нулевым) балансом и группа с пропущенными значениями. А затем построим гистограммы по этим двум категориям для сравнения."
   ]
  },
  {
   "cell_type": "code",
   "execution_count": 6,
   "metadata": {},
   "outputs": [
    {
     "data": {
      "text/plain": [
       "баланс (+)    6383\n",
       "баланс NaN    3617\n",
       "Name: balance_group, dtype: int64"
      ]
     },
     "execution_count": 6,
     "metadata": {},
     "output_type": "execute_result"
    }
   ],
   "source": [
    "# напишем функцию для категоризации данных по остатку на счете\n",
    "def balance_group (balance):\n",
    "    if balance >= 0:\n",
    "        return 'баланс (+)'\n",
    "    return 'баланс NaN'\n",
    "\n",
    "# добавим столбец `balance_group`, содержащий категории\n",
    "df['balance_group'] = df['balance'].apply(balance_group)\n",
    "# проверим корректность заполнения категорий (положительный баланс должен быть в 6383 случаях)\n",
    "df['balance_group'].value_counts()"
   ]
  },
  {
   "cell_type": "code",
   "execution_count": 7,
   "metadata": {},
   "outputs": [],
   "source": [
    "# определим функцию отрисовки графиков признаков для групп\n",
    "def show_clusters(df, cluster_name, feature):\n",
    "    for f in feature:\n",
    "        if f == cluster_name: continue\n",
    "        sns.histplot(data=df, x=f, hue=cluster_name, element=\"step\")\n",
    "        plt.title(f'Распределение по признаку - {f}')\n",
    "        plt.ylabel('Количество клиентов')\n",
    "        plt.show();"
   ]
  },
  {
   "cell_type": "code",
   "execution_count": 8,
   "metadata": {
    "scrolled": true
   },
   "outputs": [
    {
     "data": {
      "image/png": "[encoded data removed]",
      "text/plain": [
       "<Figure size 432x288 with 1 Axes>"
      ]
     },
     "metadata": {
      "needs_background": "light"
     },
     "output_type": "display_data"
    },
    {
     "data": {
      "image/png": "[encoded data removed]",
      "text/plain": [
       "<Figure size 432x288 with 1 Axes>"
      ]
     },
     "metadata": {
      "needs_background": "light"
     },
     "output_type": "display_data"
    },
    {
     "data": {
      "image/png": "[encoded data removed]",
      "text/plain": [
       "<Figure size 432x288 with 1 Axes>"
      ]
     },
     "metadata": {
      "needs_background": "light"
     },
     "output_type": "display_data"
    },
    {
     "data": {
      "image/png": "[encoded data removed]",
      "text/plain": [
       "<Figure size 432x288 with 1 Axes>"
      ]
     },
     "metadata": {
      "needs_background": "light"
     },
     "output_type": "display_data"
    },
    {
     "data": {
      "image/png": "[encoded data removed]",
      "text/plain": [
       "<Figure size 432x288 with 1 Axes>"
      ]
     },
     "metadata": {
      "needs_background": "light"
     },
     "output_type": "display_data"
    },
    {
     "data": {
      "image/png": "[encoded data removed]",
      "text/plain": [
       "<Figure size 432x288 with 1 Axes>"
      ]
     },
     "metadata": {
      "needs_background": "light"
     },
     "output_type": "display_data"
    },
    {
     "data": {
      "image/png": "[encoded data removed]",
      "text/plain": [
       "<Figure size 432x288 with 1 Axes>"
      ]
     },
     "metadata": {
      "needs_background": "light"
     },
     "output_type": "display_data"
    },
    {
     "data": {
      "image/png": "[encoded data removed]",
      "text/plain": [
       "<Figure size 432x288 with 1 Axes>"
      ]
     },
     "metadata": {
      "needs_background": "light"
     },
     "output_type": "display_data"
    },
    {
     "data": {
      "image/png": "[encoded data removed]",
      "text/plain": [
       "<Figure size 432x288 with 1 Axes>"
      ]
     },
     "metadata": {
      "needs_background": "light"
     },
     "output_type": "display_data"
    },
    {
     "data": {
      "image/png": "[encoded data removed]",
      "text/plain": [
       "<Figure size 432x288 with 1 Axes>"
      ]
     },
     "metadata": {
      "needs_background": "light"
     },
     "output_type": "display_data"
    },
    {
     "data": {
      "image/png": "[encoded data removed]",
      "text/plain": [
       "<Figure size 432x288 with 1 Axes>"
      ]
     },
     "metadata": {
      "needs_background": "light"
     },
     "output_type": "display_data"
    },
    {
     "data": {
      "image/png": "[encoded data removed]",
      "text/plain": [
       "<Figure size 432x288 with 1 Axes>"
      ]
     },
     "metadata": {
      "needs_background": "light"
     },
     "output_type": "display_data"
    }
   ],
   "source": [
    "# отрисуем графики признаков для групп\n",
    "show_clusters(df, 'balance_group', df.columns)"
   ]
  },
  {
   "cell_type": "markdown",
   "metadata": {},
   "source": [
    "- На гистограммах по признакам `score`, `age` и `products` присутствует скошенность данных, что может говорить о наличии выбросов. Поработаем с выбросами позже.\n",
    "- Пропуски преобладают в случаях, когда клиент пользуется двумя продуктами. Мы не знаем, какие именно эти продукты.\n",
    "- В банках Ростова Великого пропусков нет. Возможно клиенты этих банков пользуются только одним продуктом. Проверим предположение, построив гистограмму распределения клиентов в разрезе признаков `products/city`."
   ]
  },
  {
   "cell_type": "code",
   "execution_count": 9,
   "metadata": {},
   "outputs": [
    {
     "data": {
      "image/png": "[encoded data removed]",
      "text/plain": [
       "<Figure size 432x288 with 1 Axes>"
      ]
     },
     "metadata": {
      "needs_background": "light"
     },
     "output_type": "display_data"
    }
   ],
   "source": [
    "sns.histplot(data=df, x='products', hue='city', multiple=\"stack\")\n",
    "plt.title(f'Распределение по признакам - products/city')\n",
    "plt.ylabel('Количество клиентов')\n",
    "plt.show();"
   ]
  },
  {
   "cell_type": "markdown",
   "metadata": {},
   "source": [
    "- В Ростове Великом, как и в прочих городах, имеется достаточное количество клиентов, использующих два продукта. Предположение не подтвердилось. Возможно пропуски связаны с недобросовестным заполнением данных, или набор продуктов в разных городах отличается. Поэтому пропуски заполнять не будем, так как это может повлиять на общую картину.\n",
    "\n",
    "Для дальнейшего анализа столбец `balance_group` будет мешать. Уберем его:"
   ]
  },
  {
   "cell_type": "code",
   "execution_count": 10,
   "metadata": {},
   "outputs": [
    {
     "data": {
      "text/html": [
       "<div>\n",
       "<style scoped>\n",
       "    .dataframe tbody tr th:only-of-type {\n",
       "        vertical-align: middle;\n",
       "    }\n",
       "\n",
       "    .dataframe tbody tr th {\n",
       "        vertical-align: top;\n",
       "    }\n",
       "\n",
       "    .dataframe thead th {\n",
       "        text-align: right;\n",
       "    }\n",
       "</style>\n",
       "<table border=\"1\" class=\"dataframe\">\n",
       "  <thead>\n",
       "    <tr style=\"text-align: right;\">\n",
       "      <th></th>\n",
       "      <th>score</th>\n",
       "      <th>city</th>\n",
       "      <th>gender</th>\n",
       "      <th>age</th>\n",
       "      <th>objects</th>\n",
       "      <th>balance</th>\n",
       "      <th>products</th>\n",
       "      <th>creditcard</th>\n",
       "      <th>loyalty</th>\n",
       "      <th>estimated_salary</th>\n",
       "      <th>churn</th>\n",
       "    </tr>\n",
       "  </thead>\n",
       "  <tbody>\n",
       "    <tr>\n",
       "      <th>0</th>\n",
       "      <td>619</td>\n",
       "      <td>2</td>\n",
       "      <td>0</td>\n",
       "      <td>42</td>\n",
       "      <td>2</td>\n",
       "      <td>NaN</td>\n",
       "      <td>1</td>\n",
       "      <td>1</td>\n",
       "      <td>1</td>\n",
       "      <td>101348.88</td>\n",
       "      <td>1</td>\n",
       "    </tr>\n",
       "    <tr>\n",
       "      <th>1</th>\n",
       "      <td>608</td>\n",
       "      <td>1</td>\n",
       "      <td>0</td>\n",
       "      <td>41</td>\n",
       "      <td>1</td>\n",
       "      <td>83807.86</td>\n",
       "      <td>1</td>\n",
       "      <td>0</td>\n",
       "      <td>1</td>\n",
       "      <td>112542.58</td>\n",
       "      <td>0</td>\n",
       "    </tr>\n",
       "    <tr>\n",
       "      <th>2</th>\n",
       "      <td>502</td>\n",
       "      <td>2</td>\n",
       "      <td>0</td>\n",
       "      <td>42</td>\n",
       "      <td>8</td>\n",
       "      <td>159660.80</td>\n",
       "      <td>3</td>\n",
       "      <td>1</td>\n",
       "      <td>0</td>\n",
       "      <td>113931.57</td>\n",
       "      <td>1</td>\n",
       "    </tr>\n",
       "    <tr>\n",
       "      <th>3</th>\n",
       "      <td>699</td>\n",
       "      <td>2</td>\n",
       "      <td>0</td>\n",
       "      <td>39</td>\n",
       "      <td>1</td>\n",
       "      <td>NaN</td>\n",
       "      <td>2</td>\n",
       "      <td>0</td>\n",
       "      <td>0</td>\n",
       "      <td>93826.63</td>\n",
       "      <td>0</td>\n",
       "    </tr>\n",
       "    <tr>\n",
       "      <th>4</th>\n",
       "      <td>850</td>\n",
       "      <td>1</td>\n",
       "      <td>0</td>\n",
       "      <td>43</td>\n",
       "      <td>2</td>\n",
       "      <td>125510.82</td>\n",
       "      <td>1</td>\n",
       "      <td>1</td>\n",
       "      <td>1</td>\n",
       "      <td>79084.10</td>\n",
       "      <td>0</td>\n",
       "    </tr>\n",
       "  </tbody>\n",
       "</table>\n",
       "</div>"
      ],
      "text/plain": [
       "   score  city  gender  age  objects    balance  products  creditcard  \\\n",
       "0    619     2       0   42        2        NaN         1           1   \n",
       "1    608     1       0   41        1   83807.86         1           0   \n",
       "2    502     2       0   42        8  159660.80         3           1   \n",
       "3    699     2       0   39        1        NaN         2           0   \n",
       "4    850     1       0   43        2  125510.82         1           1   \n",
       "\n",
       "   loyalty  estimated_salary  churn  \n",
       "0        1         101348.88      1  \n",
       "1        1         112542.58      0  \n",
       "2        0         113931.57      1  \n",
       "3        0          93826.63      0  \n",
       "4        1          79084.10      0  "
      ]
     },
     "execution_count": 10,
     "metadata": {},
     "output_type": "execute_result"
    }
   ],
   "source": [
    "df = df.drop(columns= ['balance_group', 'userid'], axis=1)\n",
    "df.head()"
   ]
  },
  {
   "cell_type": "markdown",
   "metadata": {},
   "source": [
    "### Анализ выбросов"
   ]
  },
  {
   "cell_type": "markdown",
   "metadata": {},
   "source": [
    "На гистограммах по признакам `score`, `age` и `products` мы отметили скошенность данных, что может говорить о наличии выбросов. \n",
    "\n",
    "Построим диаграммы размаха для этих столбцов:"
   ]
  },
  {
   "cell_type": "code",
   "execution_count": 11,
   "metadata": {},
   "outputs": [
    {
     "data": {
      "image/png": "[encoded data removed]",
      "text/plain": [
       "<Figure size 432x288 with 1 Axes>"
      ]
     },
     "metadata": {
      "needs_background": "light"
     },
     "output_type": "display_data"
    },
    {
     "data": {
      "image/png": "[encoded data removed]",
      "text/plain": [
       "<Figure size 432x288 with 1 Axes>"
      ]
     },
     "metadata": {
      "needs_background": "light"
     },
     "output_type": "display_data"
    },
    {
     "data": {
      "image/png": "[encoded data removed]",
      "text/plain": [
       "<Figure size 432x288 with 1 Axes>"
      ]
     },
     "metadata": {
      "needs_background": "light"
     },
     "output_type": "display_data"
    },
    {
     "data": {
      "image/png": "[encoded data removed]",
      "text/plain": [
       "<Figure size 432x288 with 1 Axes>"
      ]
     },
     "metadata": {
      "needs_background": "light"
     },
     "output_type": "display_data"
    }
   ],
   "source": [
    "# создадим список с необходимыми названиями колонок-признаков\n",
    "columns = ['score', 'age', 'products', 'estimated_salary']\n",
    "\n",
    "# построим боксплоты по признакам, \"оберенем\" их в цикл\n",
    "for column in columns:\n",
    "    df.boxplot(column)\n",
    "    plt.title(f'Боксплот по признаку - {column}')\n",
    "    plt.ylabel(column)\n",
    "    plt.show();"
   ]
  },
  {
   "cell_type": "markdown",
   "metadata": {},
   "source": [
    "Наблюдаем выбросы в данных:\n",
    "- `score` < 385,\n",
    "- `age` > 62,\n",
    "- `objects` > 3.\n",
    "\n",
    "Посмотрим, сколько процентов от всех данных составляют эти выбросы:"
   ]
  },
  {
   "cell_type": "code",
   "execution_count": 12,
   "metadata": {
    "scrolled": true
   },
   "outputs": [
    {
     "data": {
      "text/plain": [
       "0.0433"
      ]
     },
     "execution_count": 12,
     "metadata": {},
     "output_type": "execute_result"
    }
   ],
   "source": [
    "len(df.query('age > 62 or score < 385 or products > 3')) /len(df)"
   ]
  },
  {
   "cell_type": "markdown",
   "metadata": {},
   "source": [
    "- Выбросы составляют менее 5% данных. Избавимся от них."
   ]
  },
  {
   "cell_type": "code",
   "execution_count": 13,
   "metadata": {},
   "outputs": [
    {
     "name": "stdout",
     "output_type": "stream",
     "text": [
      "<class 'pandas.core.frame.DataFrame'>\n",
      "Int64Index: 9567 entries, 0 to 9999\n",
      "Data columns (total 11 columns):\n",
      " #   Column            Non-Null Count  Dtype  \n",
      "---  ------            --------------  -----  \n",
      " 0   score             9567 non-null   int64  \n",
      " 1   city              9567 non-null   int32  \n",
      " 2   gender            9567 non-null   int32  \n",
      " 3   age               9567 non-null   int64  \n",
      " 4   objects           9567 non-null   int64  \n",
      " 5   balance           6102 non-null   float64\n",
      " 6   products          9567 non-null   int64  \n",
      " 7   creditcard        9567 non-null   int64  \n",
      " 8   loyalty           9567 non-null   int64  \n",
      " 9   estimated_salary  9567 non-null   float64\n",
      " 10  churn             9567 non-null   int64  \n",
      "dtypes: float64(2), int32(2), int64(7)\n",
      "memory usage: 822.2 KB\n"
     ]
    }
   ],
   "source": [
    "df = df.query('age <= 62 and score >= 385 and products <= 3')\n",
    "df.info()"
   ]
  },
  {
   "cell_type": "markdown",
   "metadata": {},
   "source": [
    "**Выводы:**\n",
    "- Датафрейм достаточно большой для анализа: 10000 наблюдений и 12 полей - уникальный ID клиента, 10 признаков и целевая переменная.\n",
    "- Дубликатов в данных нет.\n",
    "- Пропуски в столбце `balance` преобладают в случаях, когда клиент пользуется двумя продуктами. При этом в банках Ростова Великого пропусков нет, хотя клиентов, использующих два продукта, достаточно. Возможно пропуски связаны с недобросовестным заполнением данных, или набор продуктов в разных городах отличается. Заполнение пропусков не целесообразно.\n",
    "- Для применения алгоритмов машинного обучения категориальные данные преобразовали в числовые.\n",
    "- На гистограммах по признакам `score`, `age` и `products` присутствует скошенность данных, что может говорить о наличии выбросов. Проанализировав данные, отметили, что все выбросы составляют менее 5% данных. Очистили данные от выбросов для дальнейшего анализа."
   ]
  },
  {
   "cell_type": "markdown",
   "metadata": {},
   "source": [
    "## Исследовательский анализ данных"
   ]
  },
  {
   "cell_type": "markdown",
   "metadata": {},
   "source": [
    "**Этапы:**\n",
    "- Изучить средние и медианные значения для представления о среднестатистическом клиенте банка.\n",
    "- Изучить средние значения и стандартные отклонения в двух группах - тех, кто ушел, и тех, кто остался.\n",
    "- Построить столбчатые гистограммы распределения признаков для этих двух групп.\n",
    "- Построить матрицу корреляций и отобразить ее."
   ]
  },
  {
   "cell_type": "markdown",
   "metadata": {},
   "source": [
    "### Среднестатистический портрет клиента"
   ]
  },
  {
   "cell_type": "markdown",
   "metadata": {},
   "source": [
    "Изучим средние и медианные значения для представления о среднестатистическом клиенте банка:"
   ]
  },
  {
   "cell_type": "code",
   "execution_count": 14,
   "metadata": {},
   "outputs": [
    {
     "data": {
      "text/html": [
       "<div>\n",
       "<style scoped>\n",
       "    .dataframe tbody tr th:only-of-type {\n",
       "        vertical-align: middle;\n",
       "    }\n",
       "\n",
       "    .dataframe tbody tr th {\n",
       "        vertical-align: top;\n",
       "    }\n",
       "\n",
       "    .dataframe thead th {\n",
       "        text-align: right;\n",
       "    }\n",
       "</style>\n",
       "<table border=\"1\" class=\"dataframe\">\n",
       "  <thead>\n",
       "    <tr style=\"text-align: right;\">\n",
       "      <th></th>\n",
       "      <th>score</th>\n",
       "      <th>city</th>\n",
       "      <th>gender</th>\n",
       "      <th>age</th>\n",
       "      <th>objects</th>\n",
       "      <th>balance</th>\n",
       "      <th>products</th>\n",
       "      <th>creditcard</th>\n",
       "      <th>loyalty</th>\n",
       "      <th>estimated_salary</th>\n",
       "      <th>churn</th>\n",
       "    </tr>\n",
       "  </thead>\n",
       "  <tbody>\n",
       "    <tr>\n",
       "      <th>count</th>\n",
       "      <td>9567.000000</td>\n",
       "      <td>9567.000000</td>\n",
       "      <td>9567.000000</td>\n",
       "      <td>9567.000000</td>\n",
       "      <td>9567.000000</td>\n",
       "      <td>6102.000000</td>\n",
       "      <td>9567.000000</td>\n",
       "      <td>9567.000000</td>\n",
       "      <td>9567.000000</td>\n",
       "      <td>9567.000000</td>\n",
       "      <td>9567.000000</td>\n",
       "    </tr>\n",
       "    <tr>\n",
       "      <th>mean</th>\n",
       "      <td>650.718721</td>\n",
       "      <td>1.250862</td>\n",
       "      <td>0.547298</td>\n",
       "      <td>37.734713</td>\n",
       "      <td>5.015052</td>\n",
       "      <td>119833.699579</td>\n",
       "      <td>1.516045</td>\n",
       "      <td>0.705237</td>\n",
       "      <td>0.503711</td>\n",
       "      <td>100090.253758</td>\n",
       "      <td>0.197554</td>\n",
       "    </tr>\n",
       "    <tr>\n",
       "      <th>std</th>\n",
       "      <td>96.059543</td>\n",
       "      <td>0.830246</td>\n",
       "      <td>0.497784</td>\n",
       "      <td>8.782816</td>\n",
       "      <td>2.887859</td>\n",
       "      <td>30117.958823</td>\n",
       "      <td>0.549769</td>\n",
       "      <td>0.455960</td>\n",
       "      <td>0.500012</td>\n",
       "      <td>57524.690666</td>\n",
       "      <td>0.398175</td>\n",
       "    </tr>\n",
       "    <tr>\n",
       "      <th>min</th>\n",
       "      <td>386.000000</td>\n",
       "      <td>0.000000</td>\n",
       "      <td>0.000000</td>\n",
       "      <td>18.000000</td>\n",
       "      <td>0.000000</td>\n",
       "      <td>3768.690000</td>\n",
       "      <td>1.000000</td>\n",
       "      <td>0.000000</td>\n",
       "      <td>0.000000</td>\n",
       "      <td>11.580000</td>\n",
       "      <td>0.000000</td>\n",
       "    </tr>\n",
       "    <tr>\n",
       "      <th>25%</th>\n",
       "      <td>584.000000</td>\n",
       "      <td>0.000000</td>\n",
       "      <td>0.000000</td>\n",
       "      <td>32.000000</td>\n",
       "      <td>3.000000</td>\n",
       "      <td>100116.707500</td>\n",
       "      <td>1.000000</td>\n",
       "      <td>0.000000</td>\n",
       "      <td>0.000000</td>\n",
       "      <td>51013.655000</td>\n",
       "      <td>0.000000</td>\n",
       "    </tr>\n",
       "    <tr>\n",
       "      <th>50%</th>\n",
       "      <td>652.000000</td>\n",
       "      <td>2.000000</td>\n",
       "      <td>1.000000</td>\n",
       "      <td>37.000000</td>\n",
       "      <td>5.000000</td>\n",
       "      <td>119791.215000</td>\n",
       "      <td>1.000000</td>\n",
       "      <td>1.000000</td>\n",
       "      <td>1.000000</td>\n",
       "      <td>100127.710000</td>\n",
       "      <td>0.000000</td>\n",
       "    </tr>\n",
       "    <tr>\n",
       "      <th>75%</th>\n",
       "      <td>717.000000</td>\n",
       "      <td>2.000000</td>\n",
       "      <td>1.000000</td>\n",
       "      <td>43.000000</td>\n",
       "      <td>7.000000</td>\n",
       "      <td>139542.510000</td>\n",
       "      <td>2.000000</td>\n",
       "      <td>1.000000</td>\n",
       "      <td>1.000000</td>\n",
       "      <td>149464.930000</td>\n",
       "      <td>0.000000</td>\n",
       "    </tr>\n",
       "    <tr>\n",
       "      <th>max</th>\n",
       "      <td>850.000000</td>\n",
       "      <td>2.000000</td>\n",
       "      <td>1.000000</td>\n",
       "      <td>62.000000</td>\n",
       "      <td>10.000000</td>\n",
       "      <td>250898.090000</td>\n",
       "      <td>3.000000</td>\n",
       "      <td>1.000000</td>\n",
       "      <td>1.000000</td>\n",
       "      <td>199992.480000</td>\n",
       "      <td>1.000000</td>\n",
       "    </tr>\n",
       "  </tbody>\n",
       "</table>\n",
       "</div>"
      ],
      "text/plain": [
       "             score         city       gender          age      objects  \\\n",
       "count  9567.000000  9567.000000  9567.000000  9567.000000  9567.000000   \n",
       "mean    650.718721     1.250862     0.547298    37.734713     5.015052   \n",
       "std      96.059543     0.830246     0.497784     8.782816     2.887859   \n",
       "min     386.000000     0.000000     0.000000    18.000000     0.000000   \n",
       "25%     584.000000     0.000000     0.000000    32.000000     3.000000   \n",
       "50%     652.000000     2.000000     1.000000    37.000000     5.000000   \n",
       "75%     717.000000     2.000000     1.000000    43.000000     7.000000   \n",
       "max     850.000000     2.000000     1.000000    62.000000    10.000000   \n",
       "\n",
       "             balance     products   creditcard      loyalty  estimated_salary  \\\n",
       "count    6102.000000  9567.000000  9567.000000  9567.000000       9567.000000   \n",
       "mean   119833.699579     1.516045     0.705237     0.503711     100090.253758   \n",
       "std     30117.958823     0.549769     0.455960     0.500012      57524.690666   \n",
       "min      3768.690000     1.000000     0.000000     0.000000         11.580000   \n",
       "25%    100116.707500     1.000000     0.000000     0.000000      51013.655000   \n",
       "50%    119791.215000     1.000000     1.000000     1.000000     100127.710000   \n",
       "75%    139542.510000     2.000000     1.000000     1.000000     149464.930000   \n",
       "max    250898.090000     3.000000     1.000000     1.000000     199992.480000   \n",
       "\n",
       "             churn  \n",
       "count  9567.000000  \n",
       "mean      0.197554  \n",
       "std       0.398175  \n",
       "min       0.000000  \n",
       "25%       0.000000  \n",
       "50%       0.000000  \n",
       "75%       0.000000  \n",
       "max       1.000000  "
      ]
     },
     "execution_count": 14,
     "metadata": {},
     "output_type": "execute_result"
    }
   ],
   "source": [
    "df.describe()"
   ]
  },
  {
   "cell_type": "markdown",
   "metadata": {},
   "source": [
    "- По средним и медианным значениям можно составить предварительный среднестатистический портрет клиента. Это мужчины и женщины молодого возраста (средний возраст - 37 лет), преимущественно клиенты банка г.Ярославля, пользующиеся 1-2 продуктами (довольно часто 1 из них - кредитная карта). Клиенты в среднем зарабатывают около 100000 руб. и имеют в собственности 5 объектов. Средний балл кредитного скоринга равен 650. Баланс на счету в среднем 120000 руб. Клиенты уходят из банка в 20% случаев."
   ]
  },
  {
   "cell_type": "markdown",
   "metadata": {},
   "source": [
    "### Распределение признаков по группам: ушёл / остался"
   ]
  },
  {
   "cell_type": "markdown",
   "metadata": {},
   "source": [
    "Посмотрим на статистические показатели признаков в двух группах - тех, кто ушел в отток, и тех, кто остался."
   ]
  },
  {
   "cell_type": "code",
   "execution_count": 15,
   "metadata": {},
   "outputs": [
    {
     "data": {
      "text/html": [
       "<style type=\"text/css\">\n",
       "</style>\n",
       "<table id=\"T_e1fc0_\">\n",
       "  <thead>\n",
       "    <tr>\n",
       "      <th class=\"blank\" >&nbsp;</th>\n",
       "      <th class=\"index_name level0\" >churn</th>\n",
       "      <th class=\"col_heading level0 col0\" >0</th>\n",
       "      <th class=\"col_heading level0 col1\" >1</th>\n",
       "    </tr>\n",
       "  </thead>\n",
       "  <tbody>\n",
       "    <tr>\n",
       "      <th id=\"T_e1fc0_level0_row0\" class=\"row_heading level0 row0\" rowspan=\"10\">mean</th>\n",
       "      <th id=\"T_e1fc0_level1_row0\" class=\"row_heading level1 row0\" >age</th>\n",
       "      <td id=\"T_e1fc0_row0_col0\" class=\"data row0 col0\" >36.19</td>\n",
       "      <td id=\"T_e1fc0_row0_col1\" class=\"data row0 col1\" >43.99</td>\n",
       "    </tr>\n",
       "    <tr>\n",
       "      <th id=\"T_e1fc0_level1_row1\" class=\"row_heading level1 row1\" >balance</th>\n",
       "      <td id=\"T_e1fc0_row1_col0\" class=\"data row1 col0\" >119560.72</td>\n",
       "      <td id=\"T_e1fc0_row1_col1\" class=\"data row1 col1\" >120731.30</td>\n",
       "    </tr>\n",
       "    <tr>\n",
       "      <th id=\"T_e1fc0_level1_row2\" class=\"row_heading level1 row2\" >city</th>\n",
       "      <td id=\"T_e1fc0_row2_col0\" class=\"data row2 col0\" >1.31</td>\n",
       "      <td id=\"T_e1fc0_row2_col1\" class=\"data row2 col1\" >1.00</td>\n",
       "    </tr>\n",
       "    <tr>\n",
       "      <th id=\"T_e1fc0_level1_row3\" class=\"row_heading level1 row3\" >creditcard</th>\n",
       "      <td id=\"T_e1fc0_row3_col0\" class=\"data row3 col0\" >0.71</td>\n",
       "      <td id=\"T_e1fc0_row3_col1\" class=\"data row3 col1\" >0.70</td>\n",
       "    </tr>\n",
       "    <tr>\n",
       "      <th id=\"T_e1fc0_level1_row4\" class=\"row_heading level1 row4\" >estimated_salary</th>\n",
       "      <td id=\"T_e1fc0_row4_col0\" class=\"data row4 col0\" >99848.97</td>\n",
       "      <td id=\"T_e1fc0_row4_col1\" class=\"data row4 col1\" >101070.31</td>\n",
       "    </tr>\n",
       "    <tr>\n",
       "      <th id=\"T_e1fc0_level1_row5\" class=\"row_heading level1 row5\" >gender</th>\n",
       "      <td id=\"T_e1fc0_row5_col0\" class=\"data row5 col0\" >0.57</td>\n",
       "      <td id=\"T_e1fc0_row5_col1\" class=\"data row5 col1\" >0.44</td>\n",
       "    </tr>\n",
       "    <tr>\n",
       "      <th id=\"T_e1fc0_level1_row6\" class=\"row_heading level1 row6\" >loyalty</th>\n",
       "      <td id=\"T_e1fc0_row6_col0\" class=\"data row6 col0\" >0.54</td>\n",
       "      <td id=\"T_e1fc0_row6_col1\" class=\"data row6 col1\" >0.36</td>\n",
       "    </tr>\n",
       "    <tr>\n",
       "      <th id=\"T_e1fc0_level1_row7\" class=\"row_heading level1 row7\" >objects</th>\n",
       "      <td id=\"T_e1fc0_row7_col0\" class=\"data row7 col0\" >5.04</td>\n",
       "      <td id=\"T_e1fc0_row7_col1\" class=\"data row7 col1\" >4.93</td>\n",
       "    </tr>\n",
       "    <tr>\n",
       "      <th id=\"T_e1fc0_level1_row8\" class=\"row_heading level1 row8\" >products</th>\n",
       "      <td id=\"T_e1fc0_row8_col0\" class=\"data row8 col0\" >1.55</td>\n",
       "      <td id=\"T_e1fc0_row8_col1\" class=\"data row8 col1\" >1.40</td>\n",
       "    </tr>\n",
       "    <tr>\n",
       "      <th id=\"T_e1fc0_level1_row9\" class=\"row_heading level1 row9\" >score</th>\n",
       "      <td id=\"T_e1fc0_row9_col0\" class=\"data row9 col0\" >651.53</td>\n",
       "      <td id=\"T_e1fc0_row9_col1\" class=\"data row9 col1\" >647.41</td>\n",
       "    </tr>\n",
       "    <tr>\n",
       "      <th id=\"T_e1fc0_level0_row10\" class=\"row_heading level0 row10\" rowspan=\"10\">median</th>\n",
       "      <th id=\"T_e1fc0_level1_row10\" class=\"row_heading level1 row10\" >age</th>\n",
       "      <td id=\"T_e1fc0_row10_col0\" class=\"data row10 col0\" >36.00</td>\n",
       "      <td id=\"T_e1fc0_row10_col1\" class=\"data row10 col1\" >44.00</td>\n",
       "    </tr>\n",
       "    <tr>\n",
       "      <th id=\"T_e1fc0_level1_row11\" class=\"row_heading level1 row11\" >balance</th>\n",
       "      <td id=\"T_e1fc0_row11_col0\" class=\"data row11 col0\" >119787.76</td>\n",
       "      <td id=\"T_e1fc0_row11_col1\" class=\"data row11 col1\" >119817.33</td>\n",
       "    </tr>\n",
       "    <tr>\n",
       "      <th id=\"T_e1fc0_level1_row12\" class=\"row_heading level1 row12\" >city</th>\n",
       "      <td id=\"T_e1fc0_row12_col0\" class=\"data row12 col0\" >2.00</td>\n",
       "      <td id=\"T_e1fc0_row12_col1\" class=\"data row12 col1\" >1.00</td>\n",
       "    </tr>\n",
       "    <tr>\n",
       "      <th id=\"T_e1fc0_level1_row13\" class=\"row_heading level1 row13\" >creditcard</th>\n",
       "      <td id=\"T_e1fc0_row13_col0\" class=\"data row13 col0\" >1.00</td>\n",
       "      <td id=\"T_e1fc0_row13_col1\" class=\"data row13 col1\" >1.00</td>\n",
       "    </tr>\n",
       "    <tr>\n",
       "      <th id=\"T_e1fc0_level1_row14\" class=\"row_heading level1 row14\" >estimated_salary</th>\n",
       "      <td id=\"T_e1fc0_row14_col0\" class=\"data row14 col0\" >99800.87</td>\n",
       "      <td id=\"T_e1fc0_row14_col1\" class=\"data row14 col1\" >101174.46</td>\n",
       "    </tr>\n",
       "    <tr>\n",
       "      <th id=\"T_e1fc0_level1_row15\" class=\"row_heading level1 row15\" >gender</th>\n",
       "      <td id=\"T_e1fc0_row15_col0\" class=\"data row15 col0\" >1.00</td>\n",
       "      <td id=\"T_e1fc0_row15_col1\" class=\"data row15 col1\" >0.00</td>\n",
       "    </tr>\n",
       "    <tr>\n",
       "      <th id=\"T_e1fc0_level1_row16\" class=\"row_heading level1 row16\" >loyalty</th>\n",
       "      <td id=\"T_e1fc0_row16_col0\" class=\"data row16 col0\" >1.00</td>\n",
       "      <td id=\"T_e1fc0_row16_col1\" class=\"data row16 col1\" >0.00</td>\n",
       "    </tr>\n",
       "    <tr>\n",
       "      <th id=\"T_e1fc0_level1_row17\" class=\"row_heading level1 row17\" >objects</th>\n",
       "      <td id=\"T_e1fc0_row17_col0\" class=\"data row17 col0\" >5.00</td>\n",
       "      <td id=\"T_e1fc0_row17_col1\" class=\"data row17 col1\" >5.00</td>\n",
       "    </tr>\n",
       "    <tr>\n",
       "      <th id=\"T_e1fc0_level1_row18\" class=\"row_heading level1 row18\" >products</th>\n",
       "      <td id=\"T_e1fc0_row18_col0\" class=\"data row18 col0\" >2.00</td>\n",
       "      <td id=\"T_e1fc0_row18_col1\" class=\"data row18 col1\" >1.00</td>\n",
       "    </tr>\n",
       "    <tr>\n",
       "      <th id=\"T_e1fc0_level1_row19\" class=\"row_heading level1 row19\" >score</th>\n",
       "      <td id=\"T_e1fc0_row19_col0\" class=\"data row19 col0\" >653.00</td>\n",
       "      <td id=\"T_e1fc0_row19_col1\" class=\"data row19 col1\" >648.00</td>\n",
       "    </tr>\n",
       "    <tr>\n",
       "      <th id=\"T_e1fc0_level0_row20\" class=\"row_heading level0 row20\" rowspan=\"10\">var</th>\n",
       "      <th id=\"T_e1fc0_level1_row20\" class=\"row_heading level1 row20\" >age</th>\n",
       "      <td id=\"T_e1fc0_row20_col0\" class=\"data row20 col0\" >64.21</td>\n",
       "      <td id=\"T_e1fc0_row20_col1\" class=\"data row20 col1\" >80.86</td>\n",
       "    </tr>\n",
       "    <tr>\n",
       "      <th id=\"T_e1fc0_level1_row21\" class=\"row_heading level1 row21\" >balance</th>\n",
       "      <td id=\"T_e1fc0_row21_col0\" class=\"data row21 col0\" >895775973.68</td>\n",
       "      <td id=\"T_e1fc0_row21_col1\" class=\"data row21 col1\" >943902752.09</td>\n",
       "    </tr>\n",
       "    <tr>\n",
       "      <th id=\"T_e1fc0_level1_row22\" class=\"row_heading level1 row22\" >city</th>\n",
       "      <td id=\"T_e1fc0_row22_col0\" class=\"data row22 col0\" >0.64</td>\n",
       "      <td id=\"T_e1fc0_row22_col1\" class=\"data row22 col1\" >0.80</td>\n",
       "    </tr>\n",
       "    <tr>\n",
       "      <th id=\"T_e1fc0_level1_row23\" class=\"row_heading level1 row23\" >creditcard</th>\n",
       "      <td id=\"T_e1fc0_row23_col0\" class=\"data row23 col0\" >0.21</td>\n",
       "      <td id=\"T_e1fc0_row23_col1\" class=\"data row23 col1\" >0.21</td>\n",
       "    </tr>\n",
       "    <tr>\n",
       "      <th id=\"T_e1fc0_level1_row24\" class=\"row_heading level1 row24\" >estimated_salary</th>\n",
       "      <td id=\"T_e1fc0_row24_col0\" class=\"data row24 col0\" >3294057066.65</td>\n",
       "      <td id=\"T_e1fc0_row24_col1\" class=\"data row24 col1\" >3370731040.75</td>\n",
       "    </tr>\n",
       "    <tr>\n",
       "      <th id=\"T_e1fc0_level1_row25\" class=\"row_heading level1 row25\" >gender</th>\n",
       "      <td id=\"T_e1fc0_row25_col0\" class=\"data row25 col0\" >0.24</td>\n",
       "      <td id=\"T_e1fc0_row25_col1\" class=\"data row25 col1\" >0.25</td>\n",
       "    </tr>\n",
       "    <tr>\n",
       "      <th id=\"T_e1fc0_level1_row26\" class=\"row_heading level1 row26\" >loyalty</th>\n",
       "      <td id=\"T_e1fc0_row26_col0\" class=\"data row26 col0\" >0.25</td>\n",
       "      <td id=\"T_e1fc0_row26_col1\" class=\"data row26 col1\" >0.23</td>\n",
       "    </tr>\n",
       "    <tr>\n",
       "      <th id=\"T_e1fc0_level1_row27\" class=\"row_heading level1 row27\" >objects</th>\n",
       "      <td id=\"T_e1fc0_row27_col0\" class=\"data row27 col0\" >8.27</td>\n",
       "      <td id=\"T_e1fc0_row27_col1\" class=\"data row27 col1\" >8.61</td>\n",
       "    </tr>\n",
       "    <tr>\n",
       "      <th id=\"T_e1fc0_level1_row28\" class=\"row_heading level1 row28\" >products</th>\n",
       "      <td id=\"T_e1fc0_row28_col0\" class=\"data row28 col0\" >0.26</td>\n",
       "      <td id=\"T_e1fc0_row28_col1\" class=\"data row28 col1\" >0.46</td>\n",
       "    </tr>\n",
       "    <tr>\n",
       "      <th id=\"T_e1fc0_level1_row29\" class=\"row_heading level1 row29\" >score</th>\n",
       "      <td id=\"T_e1fc0_row29_col0\" class=\"data row29 col0\" >9154.90</td>\n",
       "      <td id=\"T_e1fc0_row29_col1\" class=\"data row29 col1\" >9513.44</td>\n",
       "    </tr>\n",
       "    <tr>\n",
       "      <th id=\"T_e1fc0_level0_row30\" class=\"row_heading level0 row30\" rowspan=\"10\">std</th>\n",
       "      <th id=\"T_e1fc0_level1_row30\" class=\"row_heading level1 row30\" >age</th>\n",
       "      <td id=\"T_e1fc0_row30_col0\" class=\"data row30 col0\" >8.01</td>\n",
       "      <td id=\"T_e1fc0_row30_col1\" class=\"data row30 col1\" >8.99</td>\n",
       "    </tr>\n",
       "    <tr>\n",
       "      <th id=\"T_e1fc0_level1_row31\" class=\"row_heading level1 row31\" >balance</th>\n",
       "      <td id=\"T_e1fc0_row31_col0\" class=\"data row31 col0\" >29929.52</td>\n",
       "      <td id=\"T_e1fc0_row31_col1\" class=\"data row31 col1\" >30723.00</td>\n",
       "    </tr>\n",
       "    <tr>\n",
       "      <th id=\"T_e1fc0_level1_row32\" class=\"row_heading level1 row32\" >city</th>\n",
       "      <td id=\"T_e1fc0_row32_col0\" class=\"data row32 col0\" >0.80</td>\n",
       "      <td id=\"T_e1fc0_row32_col1\" class=\"data row32 col1\" >0.89</td>\n",
       "    </tr>\n",
       "    <tr>\n",
       "      <th id=\"T_e1fc0_level1_row33\" class=\"row_heading level1 row33\" >creditcard</th>\n",
       "      <td id=\"T_e1fc0_row33_col0\" class=\"data row33 col0\" >0.46</td>\n",
       "      <td id=\"T_e1fc0_row33_col1\" class=\"data row33 col1\" >0.46</td>\n",
       "    </tr>\n",
       "    <tr>\n",
       "      <th id=\"T_e1fc0_level1_row34\" class=\"row_heading level1 row34\" >estimated_salary</th>\n",
       "      <td id=\"T_e1fc0_row34_col0\" class=\"data row34 col0\" >57393.88</td>\n",
       "      <td id=\"T_e1fc0_row34_col1\" class=\"data row34 col1\" >58058.00</td>\n",
       "    </tr>\n",
       "    <tr>\n",
       "      <th id=\"T_e1fc0_level1_row35\" class=\"row_heading level1 row35\" >gender</th>\n",
       "      <td id=\"T_e1fc0_row35_col0\" class=\"data row35 col0\" >0.49</td>\n",
       "      <td id=\"T_e1fc0_row35_col1\" class=\"data row35 col1\" >0.50</td>\n",
       "    </tr>\n",
       "    <tr>\n",
       "      <th id=\"T_e1fc0_level1_row36\" class=\"row_heading level1 row36\" >loyalty</th>\n",
       "      <td id=\"T_e1fc0_row36_col0\" class=\"data row36 col0\" >0.50</td>\n",
       "      <td id=\"T_e1fc0_row36_col1\" class=\"data row36 col1\" >0.48</td>\n",
       "    </tr>\n",
       "    <tr>\n",
       "      <th id=\"T_e1fc0_level1_row37\" class=\"row_heading level1 row37\" >objects</th>\n",
       "      <td id=\"T_e1fc0_row37_col0\" class=\"data row37 col0\" >2.88</td>\n",
       "      <td id=\"T_e1fc0_row37_col1\" class=\"data row37 col1\" >2.93</td>\n",
       "    </tr>\n",
       "    <tr>\n",
       "      <th id=\"T_e1fc0_level1_row38\" class=\"row_heading level1 row38\" >products</th>\n",
       "      <td id=\"T_e1fc0_row38_col0\" class=\"data row38 col0\" >0.51</td>\n",
       "      <td id=\"T_e1fc0_row38_col1\" class=\"data row38 col1\" >0.68</td>\n",
       "    </tr>\n",
       "    <tr>\n",
       "      <th id=\"T_e1fc0_level1_row39\" class=\"row_heading level1 row39\" >score</th>\n",
       "      <td id=\"T_e1fc0_row39_col0\" class=\"data row39 col0\" >95.68</td>\n",
       "      <td id=\"T_e1fc0_row39_col1\" class=\"data row39 col1\" >97.54</td>\n",
       "    </tr>\n",
       "  </tbody>\n",
       "</table>\n"
      ],
      "text/plain": [
       "<pandas.io.formats.style.Styler at 0x14ff3567130>"
      ]
     },
     "execution_count": 15,
     "metadata": {},
     "output_type": "execute_result"
    }
   ],
   "source": [
    "df.pivot_table(\n",
    "    index = 'churn', \n",
    "    values=df.columns.values,\n",
    "    aggfunc=['mean', 'median', np.var, np.std]\n",
    ").T.style.format('{:.2f}')"
   ]
  },
  {
   "cell_type": "markdown",
   "metadata": {},
   "source": [
    "- Заметна разница средних показателей у групп в зависимости от города расположения банка, пола, возраста и активности клиента, количества используемых продуктов.\n",
    "- Уровень дохода клиента, количество объектов в собственности, наличие кредитной карты и баллы кредитного скоринга, остаток на счету - похоже, не сильно влияют на решение клиента уйти или остаться.\n",
    "\n",
    "Изучим распределение признаков для двух групп на столбчатых гистограммах."
   ]
  },
  {
   "cell_type": "code",
   "execution_count": 16,
   "metadata": {},
   "outputs": [
    {
     "data": {
      "image/png": "[encoded data removed]",
      "text/plain": [
       "<Figure size 432x288 with 1 Axes>"
      ]
     },
     "metadata": {
      "needs_background": "light"
     },
     "output_type": "display_data"
    },
    {
     "data": {
      "image/png": "[encoded data removed]",
      "text/plain": [
       "<Figure size 432x288 with 1 Axes>"
      ]
     },
     "metadata": {
      "needs_background": "light"
     },
     "output_type": "display_data"
    },
    {
     "data": {
      "image/png": "[encoded data removed]",
      "text/plain": [
       "<Figure size 432x288 with 1 Axes>"
      ]
     },
     "metadata": {
      "needs_background": "light"
     },
     "output_type": "display_data"
    },
    {
     "data": {
      "image/png": "[encoded data removed]",
      "text/plain": [
       "<Figure size 432x288 with 1 Axes>"
      ]
     },
     "metadata": {
      "needs_background": "light"
     },
     "output_type": "display_data"
    },
    {
     "data": {
      "image/png": "[encoded data removed]",
      "text/plain": [
       "<Figure size 432x288 with 1 Axes>"
      ]
     },
     "metadata": {
      "needs_background": "light"
     },
     "output_type": "display_data"
    },
    {
     "data": {
      "image/png": "[encoded data removed]",
      "text/plain": [
       "<Figure size 432x288 with 1 Axes>"
      ]
     },
     "metadata": {
      "needs_background": "light"
     },
     "output_type": "display_data"
    },
    {
     "data": {
      "image/png": "[encoded data removed]",
      "text/plain": [
       "<Figure size 432x288 with 1 Axes>"
      ]
     },
     "metadata": {
      "needs_background": "light"
     },
     "output_type": "display_data"
    },
    {
     "data": {
      "image/png": "[encoded data removed]",
      "text/plain": [
       "<Figure size 432x288 with 1 Axes>"
      ]
     },
     "metadata": {
      "needs_background": "light"
     },
     "output_type": "display_data"
    },
    {
     "data": {
      "image/png": "[encoded data removed]",
      "text/plain": [
       "<Figure size 432x288 with 1 Axes>"
      ]
     },
     "metadata": {
      "needs_background": "light"
     },
     "output_type": "display_data"
    },
    {
     "data": {
      "image/png": "[encoded data removed]",
      "text/plain": [
       "<Figure size 432x288 with 1 Axes>"
      ]
     },
     "metadata": {
      "needs_background": "light"
     },
     "output_type": "display_data"
    }
   ],
   "source": [
    "show_clusters(df, 'churn', df.columns)"
   ]
  },
  {
   "cell_type": "markdown",
   "metadata": {},
   "source": [
    "На удержание клиентов влияют следующие признаки:\n",
    "- город расположения банка - в Ярославле и Рыбинске ситуация с удержанием клиентов значительно лучше, чем в Ростове Великом;\n",
    "- мужчины чаще остаются клиентами банка, чем женщины;\n",
    "- большинство оставшихся клиентов - люди 30-40 лет, чаще уходят клиенты в возрасте 40-60 лет;\n",
    "- клиенты, пользующиеся двумя продуктами, реже уходят, чем те, кто пользуется одним продуктом;\n",
    "- активность клиента - важный признак удержания.\n",
    "\n",
    "\n",
    "Построим матрицу корреляций и изучим степень корреляции между признаками:"
   ]
  },
  {
   "cell_type": "code",
   "execution_count": 17,
   "metadata": {},
   "outputs": [
    {
     "data": {
      "image/png": "[encoded data removed]",
      "text/plain": [
       "<Figure size 1080x720 with 2 Axes>"
      ]
     },
     "metadata": {
      "needs_background": "light"
     },
     "output_type": "display_data"
    }
   ],
   "source": [
    "plt.figure(figsize=(15, 10))\n",
    "sns.heatmap(df.corr(), annot=True, fmt='.2g', cmap= 'coolwarm', square=True, vmin=-1, vmax=1);"
   ]
  },
  {
   "cell_type": "markdown",
   "metadata": {},
   "source": [
    "Признаки, наиболее заметно коррелирующие с целевой переменной (в порядке убывания силы корреляции):\n",
    "- `age` (возраст),\n",
    "- `city` (город),\n",
    "- `loyalty` (активность клиента),\n",
    "- `products` (количество продуктов, которыми пользуется клиент),\n",
    "- `gender` (пол)."
   ]
  },
  {
   "cell_type": "markdown",
   "metadata": {},
   "source": [
    "**Выводы:**\n",
    "\n",
    "Среднестатистический портрет клиента:\n",
    "- мужчины и женщины молодого возраста (средний возраст - 37 лет),\n",
    "- клиенты банка г.Ярославля,\n",
    "- пользуются 1-2 продуктами (довольно часто 1 из них - кредитная карта),\n",
    "- средняя заработная плата клиента - 100000 руб.,\n",
    "- имеют в собственности около 5 объектов,\n",
    "- средний балл кредитного скоринга равен 650,\n",
    "- баланс на счету около 120000 руб.,\n",
    "- клиенты уходят из банка в 20% случаев.\n",
    "\n",
    "\n",
    "Признаки, наиболее заметно коррелирующие с целевой переменной (в порядке убывания силы корреляции):\n",
    "- `age` (возраст) - умеренная корреляция,\n",
    "- `city` (город) - слабая корреляция,\n",
    "- `loyalty` (активность клиента) - слабая корреляция,\n",
    "- `products` (количество продуктов, которыми пользуется клиент) - слабая корреляция,\n",
    "- `gender` (пол) - слабая корреляция."
   ]
  },
  {
   "cell_type": "markdown",
   "metadata": {},
   "source": [
    "## Кластеризация клиентов"
   ]
  },
  {
   "cell_type": "markdown",
   "metadata": {},
   "source": [
    "- Стандартизировать данные.\n",
    "- Построить матрицу расстояний функцией linkage() на стандартизованной матрице признаков и нарисовать дендрограмму для определения оптимального количества кластеров.\n",
    "- Обучить модель кластеризации на основании алгоритма K-Means и спрогнозировать кластеры клиентов.\n",
    "- Изучить средние значения признаков для кластеров.\n",
    "- Построить распределения признаков для кластеров.\n",
    "- Определить, какие кластеры склонны к оттоку, а какие — надёжны."
   ]
  },
  {
   "cell_type": "markdown",
   "metadata": {},
   "source": [
    "Для проведения кластеризации и проверки гипотез исключим столбец `balance`, в котором встречается 36% пропусков:"
   ]
  },
  {
   "cell_type": "code",
   "execution_count": 18,
   "metadata": {},
   "outputs": [],
   "source": [
    "df = df.drop(columns='balance', axis=1)"
   ]
  },
  {
   "cell_type": "markdown",
   "metadata": {},
   "source": [
    "Стандартизируем данные:"
   ]
  },
  {
   "cell_type": "code",
   "execution_count": 19,
   "metadata": {},
   "outputs": [],
   "source": [
    "sc = StandardScaler()\n",
    "X_sc = sc.fit_transform(df)"
   ]
  },
  {
   "cell_type": "markdown",
   "metadata": {},
   "source": [
    "Построим матрицу расстояний и нарисуем дендрограмму:"
   ]
  },
  {
   "cell_type": "code",
   "execution_count": 20,
   "metadata": {},
   "outputs": [
    {
     "data": {
      "image/png": "[encoded data removed]",
      "text/plain": [
       "<Figure size 1080x720 with 1 Axes>"
      ]
     },
     "metadata": {
      "needs_background": "light"
     },
     "output_type": "display_data"
    }
   ],
   "source": [
    "# построим матрицу расстояний функцией linkage()\n",
    "linked = linkage(X_sc, method = 'ward') \n",
    "\n",
    "# визуализируем матрицу в виде дендрограммы\n",
    "plt.figure(figsize=(15, 10))  \n",
    "dendrogram(linked, orientation='top')\n",
    "plt.title('Дендрограмма')\n",
    "plt.show()"
   ]
  },
  {
   "cell_type": "markdown",
   "metadata": {},
   "source": [
    "- Предложенное оптимальное число кластеров - 3."
   ]
  },
  {
   "cell_type": "markdown",
   "metadata": {},
   "source": [
    "Обучим модель кластеризации на основании алгоритма K-Means и спрогнозируем кластеры клиентов:"
   ]
  },
  {
   "cell_type": "code",
   "execution_count": 21,
   "metadata": {},
   "outputs": [],
   "source": [
    "# зададим модель k_means с числом кластеров 3 и фиксируем значение random_state\n",
    "km = KMeans(n_clusters=3, random_state=0)\n",
    "# прогнозируем кластеры для наблюдений (алгоритм присваивает им номера от 0 до 2)\n",
    "labels = km.fit_predict(X_sc)"
   ]
  },
  {
   "cell_type": "markdown",
   "metadata": {},
   "source": [
    "Посмотрим на средние значения признаков для кластеров:"
   ]
  },
  {
   "cell_type": "code",
   "execution_count": 22,
   "metadata": {},
   "outputs": [
    {
     "data": {
      "text/html": [
       "<div>\n",
       "<style scoped>\n",
       "    .dataframe tbody tr th:only-of-type {\n",
       "        vertical-align: middle;\n",
       "    }\n",
       "\n",
       "    .dataframe tbody tr th {\n",
       "        vertical-align: top;\n",
       "    }\n",
       "\n",
       "    .dataframe thead th {\n",
       "        text-align: right;\n",
       "    }\n",
       "</style>\n",
       "<table border=\"1\" class=\"dataframe\">\n",
       "  <thead>\n",
       "    <tr style=\"text-align: right;\">\n",
       "      <th></th>\n",
       "      <th>score</th>\n",
       "      <th>city</th>\n",
       "      <th>gender</th>\n",
       "      <th>age</th>\n",
       "      <th>objects</th>\n",
       "      <th>products</th>\n",
       "      <th>creditcard</th>\n",
       "      <th>loyalty</th>\n",
       "      <th>estimated_salary</th>\n",
       "      <th>churn</th>\n",
       "    </tr>\n",
       "    <tr>\n",
       "      <th>cluster_km</th>\n",
       "      <th></th>\n",
       "      <th></th>\n",
       "      <th></th>\n",
       "      <th></th>\n",
       "      <th></th>\n",
       "      <th></th>\n",
       "      <th></th>\n",
       "      <th></th>\n",
       "      <th></th>\n",
       "      <th></th>\n",
       "    </tr>\n",
       "  </thead>\n",
       "  <tbody>\n",
       "    <tr>\n",
       "      <th>0</th>\n",
       "      <td>653.630335</td>\n",
       "      <td>1.299976</td>\n",
       "      <td>0.578249</td>\n",
       "      <td>36.909091</td>\n",
       "      <td>4.959248</td>\n",
       "      <td>1.538220</td>\n",
       "      <td>0.707499</td>\n",
       "      <td>1.00000</td>\n",
       "      <td>99490.426824</td>\n",
       "      <td>0.000965</td>\n",
       "    </tr>\n",
       "    <tr>\n",
       "      <th>1</th>\n",
       "      <td>649.044709</td>\n",
       "      <td>1.330787</td>\n",
       "      <td>0.567346</td>\n",
       "      <td>35.339559</td>\n",
       "      <td>5.125071</td>\n",
       "      <td>1.555744</td>\n",
       "      <td>0.706282</td>\n",
       "      <td>0.00000</td>\n",
       "      <td>100296.412799</td>\n",
       "      <td>0.000000</td>\n",
       "    </tr>\n",
       "    <tr>\n",
       "      <th>2</th>\n",
       "      <td>647.453340</td>\n",
       "      <td>0.993107</td>\n",
       "      <td>0.441676</td>\n",
       "      <td>44.038176</td>\n",
       "      <td>4.931601</td>\n",
       "      <td>1.392895</td>\n",
       "      <td>0.698303</td>\n",
       "      <td>0.35631</td>\n",
       "      <td>101022.871066</td>\n",
       "      <td>1.000000</td>\n",
       "    </tr>\n",
       "  </tbody>\n",
       "</table>\n",
       "</div>"
      ],
      "text/plain": [
       "                 score      city    gender        age   objects  products  \\\n",
       "cluster_km                                                                  \n",
       "0           653.630335  1.299976  0.578249  36.909091  4.959248  1.538220   \n",
       "1           649.044709  1.330787  0.567346  35.339559  5.125071  1.555744   \n",
       "2           647.453340  0.993107  0.441676  44.038176  4.931601  1.392895   \n",
       "\n",
       "            creditcard  loyalty  estimated_salary     churn  \n",
       "cluster_km                                                   \n",
       "0             0.707499  1.00000      99490.426824  0.000965  \n",
       "1             0.706282  0.00000     100296.412799  0.000000  \n",
       "2             0.698303  0.35631     101022.871066  1.000000  "
      ]
     },
     "execution_count": 22,
     "metadata": {},
     "output_type": "execute_result"
    }
   ],
   "source": [
    "# сохраняем метки кластера в поле нашего датасета\n",
    "df['cluster_km'] = labels\n",
    "\n",
    "# выводим статистику по средним значениям наших признаков по кластеру\n",
    "clusters = df.groupby(['cluster_km']).mean()\n",
    "clusters"
   ]
  },
  {
   "cell_type": "markdown",
   "metadata": {},
   "source": [
    "- Более склонны к оттоку клиенты из кластера 2.\n",
    "- Надежные кластеры - 1 и 0.\n",
    "- Как и отмечали выше, на удержание влияют: город, пол, возраст, количество пользуемых продуктов.\n",
    "- Активность клиента имеет значение не во всех группах."
   ]
  },
  {
   "cell_type": "markdown",
   "metadata": {},
   "source": [
    "Отразим распределение признаков по кластерам на графиках:"
   ]
  },
  {
   "cell_type": "code",
   "execution_count": 23,
   "metadata": {
    "scrolled": true
   },
   "outputs": [
    {
     "data": {
      "image/png": "[encoded data removed]",
      "text/plain": [
       "<Figure size 432x288 with 1 Axes>"
      ]
     },
     "metadata": {
      "needs_background": "light"
     },
     "output_type": "display_data"
    },
    {
     "data": {
      "image/png": "[encoded data removed]",
      "text/plain": [
       "<Figure size 432x288 with 1 Axes>"
      ]
     },
     "metadata": {
      "needs_background": "light"
     },
     "output_type": "display_data"
    },
    {
     "data": {
      "image/png": "[encoded data removed]",
      "text/plain": [
       "<Figure size 432x288 with 1 Axes>"
      ]
     },
     "metadata": {
      "needs_background": "light"
     },
     "output_type": "display_data"
    },
    {
     "data": {
      "image/png": "[encoded data removed]",
      "text/plain": [
       "<Figure size 432x288 with 1 Axes>"
      ]
     },
     "metadata": {
      "needs_background": "light"
     },
     "output_type": "display_data"
    },
    {
     "data": {
      "image/png": "[encoded data removed]",
      "text/plain": [
       "<Figure size 432x288 with 1 Axes>"
      ]
     },
     "metadata": {
      "needs_background": "light"
     },
     "output_type": "display_data"
    },
    {
     "data": {
      "image/png": "[encoded data removed]",
      "text/plain": [
       "<Figure size 432x288 with 1 Axes>"
      ]
     },
     "metadata": {
      "needs_background": "light"
     },
     "output_type": "display_data"
    },
    {
     "data": {
      "image/png": "[encoded data removed]",
      "text/plain": [
       "<Figure size 432x288 with 1 Axes>"
      ]
     },
     "metadata": {
      "needs_background": "light"
     },
     "output_type": "display_data"
    },
    {
     "data": {
      "image/png": "[encoded data removed]",
      "text/plain": [
       "<Figure size 432x288 with 1 Axes>"
      ]
     },
     "metadata": {
      "needs_background": "light"
     },
     "output_type": "display_data"
    },
    {
     "data": {
      "image/png": "[encoded data removed]",
      "text/plain": [
       "<Figure size 432x288 with 1 Axes>"
      ]
     },
     "metadata": {
      "needs_background": "light"
     },
     "output_type": "display_data"
    },
    {
     "data": {
      "image/png": "[encoded data removed]",
      "text/plain": [
       "<Figure size 432x288 with 1 Axes>"
      ]
     },
     "metadata": {
      "needs_background": "light"
     },
     "output_type": "display_data"
    }
   ],
   "source": [
    "show_clusters(df, 'cluster_km', df.columns)"
   ]
  },
  {
   "cell_type": "markdown",
   "metadata": {},
   "source": [
    "Можно выделить следующие группы клиентов:\n",
    "- **Кластер 1.** Самая надёжная группа клиентов (отток составляет 0%): неактивные клиенты отделений банка преимуществено расположенных в г. Ярославле, чаще это мужчины 30-40 лет, пользующиеся 1-2 продуктами.\n",
    "- **Кластер 0.** Также надёжная группа клиентов (отток составляет менее 0,1%). Группа отличается от 1-го кластера исключительной активностью клиентов.\n",
    "- **Кластер 2.** Абсолютно ненадёжная группа клиентов со 100% оттоком. Максимальная доля этого кластера представлена в г. Ростове Великом, чаще это женщины 40-50-60 лет, пользующиеся 1 продуктом и являющиеся малоактивными клиентами."
   ]
  },
  {
   "cell_type": "markdown",
   "metadata": {},
   "source": [
    "**Выводы:**\n",
    "- Более склонны к оттоку клиенты из кластера 2;\n",
    "- Надёжные кластеры - 1 и 0;\n",
    "- На удержание клиентов влияют: город, пол, возраст, количество пользуемых продуктов;\n",
    "- Активность клиента имеет не решающее значение. Проверим эту гипотезу позже.\n",
    "\n",
    "Группы клиентов:\n",
    "- **Кластер 1.** Самая надёжная группа клиентов (отток составляет 0%): неактивные клиенты отделений банка преимуществено расположенных в г. Ярославле, чаще это мужчины 30-40 лет, пользующиеся 1-2 продуктами.\n",
    "- **Кластер 0.** Также надёжная группа клиентов (отток составляет менее 0,1%). Группа отличается от 1-го кластера исключительной активностью клиентов.\n",
    "- **Кластер 2.** Абсолютно ненадёжная группа клиентов со 100% оттоком. Максимальная доля этого кластера представлена в г. Ростове Великом, чаще это женщины 40-50-60 лет, пользующиеся 1 продуктом и являющиеся малоактивными клиентами."
   ]
  },
  {
   "cell_type": "markdown",
   "metadata": {},
   "source": [
    "## Проверка гипотез"
   ]
  },
  {
   "cell_type": "markdown",
   "metadata": {},
   "source": [
    "Исследуем две гипотезы:\n",
    "1. Средний доход у ушедших и оставшихся клиентов различается.\n",
    "2. Активность ушедших и оставшихся клиентов различается."
   ]
  },
  {
   "cell_type": "markdown",
   "metadata": {},
   "source": [
    "### Сравнение среднего дохода у ушедших и оставшихся клиентов"
   ]
  },
  {
   "cell_type": "markdown",
   "metadata": {},
   "source": [
    "Сформулируем статистические гипотезы:\n",
    "- Н0: средний доход у ушедших и оставшихся клиентов одинаков;\n",
    "- Н1: средний доход у ушедших и оставшихся клиентов различается."
   ]
  },
  {
   "cell_type": "markdown",
   "metadata": {},
   "source": [
    "Для проверки гипотезы о равенстве средних двух генеральных совокупностей по взятым из них выборкам используем метод .ttest_ind. Так как выборки по размеру разные, в параметрах укажем equal_var=False. Зададим критический уровень статистической значимости равный 5 %."
   ]
  },
  {
   "cell_type": "code",
   "execution_count": 24,
   "metadata": {},
   "outputs": [
    {
     "name": "stdout",
     "output_type": "stream",
     "text": [
      "p-значение: 0.4116622269422401\n",
      "Не получилось отвергнуть нулевую гипотезу.\n"
     ]
    }
   ],
   "source": [
    "# зададим пороговое значение alpha, равное 5 %:\n",
    "alpha = .05\n",
    "\n",
    "# проведем t-тест на равенство средних двух выборок:\n",
    "salary_mean_compare = st.ttest_ind(df.query('churn == 0')['estimated_salary'], df.query('churn == 1')['estimated_salary'], equal_var=False)\n",
    "\n",
    "# рассчитаем p-value - вероятность получить наблюдаемый или еще более далекий от предполагаемого результат\n",
    "# при условии, что Н0 верна:\n",
    "p_value_salary_mean_compare = salary_mean_compare.pvalue\n",
    "\n",
    "# выведем на экран значение p-value:\n",
    "print('p-значение:', p_value_salary_mean_compare)\n",
    "\n",
    "# сравним p-value с пороговым значением alpha:\n",
    "if p_value_salary_mean_compare < alpha:\n",
    "    print('Отвергаем нулевую гипотезу.')\n",
    "else:\n",
    "    print('Не получилось отвергнуть нулевую гипотезу.')"
   ]
  },
  {
   "cell_type": "markdown",
   "metadata": {},
   "source": [
    "Значение p-value равно 41 %. Это значит, что вероятность равенства среднего дохода ушедших и оставшихся клиентов довольно высока. Отвергнуть нулевую гипотезу не получилось."
   ]
  },
  {
   "cell_type": "markdown",
   "metadata": {},
   "source": [
    "### Сравнение активности ушедших и оставшихся клиентов"
   ]
  },
  {
   "cell_type": "markdown",
   "metadata": {},
   "source": [
    "Ранее в исследовании мы обнаружили, что клиенты из кластера №1 - это самые надёжные клиенты, но при этом абсолютно неактивные. Это даёт повод заподозрить, что возможно активность ушедших и оставшихся клиентов не сильно отличается. Рассмотрим эту гипотезу."
   ]
  },
  {
   "cell_type": "markdown",
   "metadata": {},
   "source": [
    "Сформулируем статистические гипотезы:\n",
    "- Н0: активность ушедших и оставшихся клиентов одинакова;\n",
    "- Н1: активность ушедших и оставшихся клиентов различается."
   ]
  },
  {
   "cell_type": "markdown",
   "metadata": {},
   "source": [
    "Для проверки гипотезы о равенстве средних двух генеральных совокупностей по взятым из них выборкам используем метод .ttest_ind. Так как выборки по размеру разные, в параметрах укажем equal_var=False. Оставим критический уровень статистической значимости равный 5 %."
   ]
  },
  {
   "cell_type": "code",
   "execution_count": 25,
   "metadata": {},
   "outputs": [
    {
     "name": "stdout",
     "output_type": "stream",
     "text": [
      "p-значение: 0.00000000000000000000\n",
      "Отвергаем нулевую гипотезу.\n"
     ]
    }
   ],
   "source": [
    "# проведем t-тест на равенство средних двух выборок:\n",
    "loyalty_mean_compare = st.ttest_ind(df.query('churn == 0')['loyalty'], df.query('churn == 1')['loyalty'], equal_var=False)\n",
    "\n",
    "# рассчитаем p-value - вероятность получить наблюдаемый или еще более далекий от предполагаемого результат\n",
    "# при условии, что Н0 верна:\n",
    "p_value_loyalty_mean_compare = loyalty_mean_compare.pvalue\n",
    "\n",
    "# выведем на экран значение p-value:\n",
    "print('p-значение:', '{:.20f}'.format(float(p_value_loyalty_mean_compare)))\n",
    "\n",
    "# сравним p-value с пороговым значением alpha:\n",
    "if p_value_loyalty_mean_compare < alpha:\n",
    "    print('Отвергаем нулевую гипотезу.')\n",
    "else:\n",
    "    print('Не получилось отвергнуть нулевую гипотезу.')"
   ]
  },
  {
   "cell_type": "markdown",
   "metadata": {},
   "source": [
    "По значению p-value видим, что вероятность одинаковой активности ушедших и оставшихся клиентов критически мала. Нулевую гипотезу отвергаем и принимаем альтернативную гипотезу, а именно: \"активность ушедших и оставшихся клиентов различается\"."
   ]
  },
  {
   "cell_type": "markdown",
   "metadata": {},
   "source": [
    "**Выводы:**\n",
    "- Гипотезу о равенстве среднего дохода у ушедших и оставшихся клиентов отвергнуть не получилось, так как значение p-value составляет 41 %;\n",
    "- Гипотезу об одинаковой активности ушедших и оставшихся пользователей мы отвергли, так как значение p-value близко к нулю."
   ]
  },
  {
   "cell_type": "markdown",
   "metadata": {},
   "source": [
    "## Общие выводы и рекомендации"
   ]
  },
  {
   "cell_type": "markdown",
   "metadata": {},
   "source": [
    "Проблемы в данных:\n",
    "\n",
    "- присутствуют пропуски данных в столбце `balance`, которые составляют 36 % от всех наблюдений. Пропуски преобладают в случаях, когда клиент пользуется двумя продуктами. При этом в банках Ростова Великого пропусков нет, хотя клиентов, использующих два продукта, достаточно. Возможно пропуски связаны с недобросовестным заполнением данных, или набор продуктов в разных городах отличается. Заполнение пропусков не целесообразно. На этапе проведения кластеризации и проверки гипотез избавились от столбца `balance`;\n",
    "- пропуски в данных возможно повлияли на результаты исследования зависимости оттока клиентов от баланса на счете;\n",
    "- выбросы данных в столбцах `score`, `age` и `product` составляют менее 5% данных. Для дальнейшего анализа данные от выбросов очистили;\n",
    "- возможно имеет смысл дополнить данные наименованием используемых продуктов для проведения анализа."
   ]
  },
  {
   "cell_type": "markdown",
   "metadata": {},
   "source": [
    "Среднестатистический портрет клиента:\n",
    "\n",
    "- мужчины и женщины молодого возраста (средний возраст - 37 лет),\n",
    "- клиенты банка г.Ярославля,\n",
    "- пользуются 1-2 продуктами (довольно часто 1 из них - кредитная карта),\n",
    "- средняя заработная плата клиента - 100000 руб.,\n",
    "- имеют в собственности около 5 объектов,\n",
    "- средний балл кредитного скоринга равен 650,\n",
    "- баланс на счету (на данных без пропусков) около 120000 руб.,\n",
    "- клиенты уходят из банка в 20% случаев."
   ]
  },
  {
   "cell_type": "markdown",
   "metadata": {},
   "source": [
    "Основные кластеры клиентов:\n",
    "- Кластер 1. Самая надёжная группа клиентов (отток составляет 0%): неактивные клиенты отделений банка преимуществено расположенных в г. Ярославле, чаще это мужчины 30-40 лет, пользующиеся 1-2 продуктами.\n",
    "- Кластер 0. Также надёжная группа клиентов (отток составляет менее 0,1%). Группа отличается от 1-го кластера исключительной активностью клиентов.\n",
    "- Кластер 2. Абсолютно ненадёжная группа клиентов со 100% оттоком. Максимальная доля этого кластера представлена в г. Ростове Великом, чаще это женщины 40-50-60 лет, пользующиеся 1 продуктом и являющиеся малоактивными клиентами."
   ]
  },
  {
   "cell_type": "markdown",
   "metadata": {},
   "source": [
    "Признаки, наиболее заметно коррелирующие с целевой переменной (в порядке убывания силы корреляции):\n",
    "- age (возраст),\n",
    "- city (город),\n",
    "- loyalty (активность клиента),\n",
    "- products (количество продуктов, которыми пользуется клиент),\n",
    "- gender (пол)."
   ]
  },
  {
   "cell_type": "markdown",
   "metadata": {},
   "source": [
    "Признаки, наиболее сильно влияющие на отток:\n",
    "- возраст 40-50-60 лет,\n",
    "- клиенты отделений банка в г. Ростове Великом,\n",
    "- малоактивные клиенты,\n",
    "- пользователи 1 продукта,\n",
    "- женщины."
   ]
  },
  {
   "cell_type": "markdown",
   "metadata": {},
   "source": [
    "Гипотезы:\n",
    "- гипотезу о равенстве среднего дохода у ушедших и оставшихся клиентов отвергнуть не получилось, так как значение p-value составляет 41 %;\n",
    "- гипотезу об одинаковой активности ушедших и оставшихся пользователей отвергли, так как значение p-value близко к нулю."
   ]
  },
  {
   "cell_type": "markdown",
   "metadata": {},
   "source": [
    "**Рекомендации:**\n",
    "\n",
    "Целевая группа клиентов находится в кластере 2.\n",
    "\n",
    "Возможные меры по снижению оттока:\n",
    "- активнее предлагать пенсионные банковские карты;\n",
    "- развивать банковские продукты и услуги, интересные зрелым гражданам (сберегательные депозиты, услуги страхования, инвестиционные и брокерские услуги, осуществление консультаций и обучения пользованию интернет-банкингом);\n",
    "- проанализировать и откорректировать причины оттока клиентов из отделений банка в Ростове Великом;\n",
    "- стимулировать активное пользование банковскими картами (кэшбэк, бесплатное обслуживание карты при опредленной сумме оплаты покупок);\n",
    "- активнее знакомить и предлагать клиентам банка новые банковские продукты;\n",
    "- развивать банковские продукты и услуги, интересные женщинам (кэшбэк при оплате картой услуг фитнес-центров, салонов красоты, центров медицинских услуг; выпуск детских карт, привязанных к счету родителя)."
   ]
  },
  {
   "cell_type": "code",
   "execution_count": null,
   "metadata": {},
   "outputs": [],
   "source": []
  }
 ],
 "metadata": {
  "ExecuteTimeLog": [
   {
    "duration": 556,
    "start_time": "2022-05-15T18:17:08.674Z"
   },
   {
    "duration": 111,
    "start_time": "2022-05-15T18:17:50.321Z"
   },
   {
    "duration": 5,
    "start_time": "2022-05-15T18:27:10.508Z"
   },
   {
    "duration": 31,
    "start_time": "2022-05-15T18:28:13.515Z"
   },
   {
    "duration": 5,
    "start_time": "2022-05-15T18:31:36.137Z"
   },
   {
    "duration": 87,
    "start_time": "2022-05-15T18:32:07.002Z"
   },
   {
    "duration": 5,
    "start_time": "2022-05-15T18:38:46.063Z"
   },
   {
    "duration": 81,
    "start_time": "2022-05-15T18:39:05.612Z"
   },
   {
    "duration": 1267,
    "start_time": "2022-05-15T18:58:04.017Z"
   },
   {
    "duration": 116,
    "start_time": "2022-05-15T18:58:36.769Z"
   },
   {
    "duration": 11,
    "start_time": "2022-05-15T18:59:29.426Z"
   },
   {
    "duration": 8,
    "start_time": "2022-05-15T18:59:56.770Z"
   },
   {
    "duration": 9,
    "start_time": "2022-05-15T19:00:00.954Z"
   },
   {
    "duration": 578,
    "start_time": "2022-05-15T19:00:34.007Z"
   },
   {
    "duration": 961,
    "start_time": "2022-05-15T19:00:34.588Z"
   },
   {
    "duration": 28,
    "start_time": "2022-05-15T19:00:35.552Z"
   },
   {
    "duration": 5,
    "start_time": "2022-05-15T19:00:35.582Z"
   },
   {
    "duration": 99,
    "start_time": "2022-05-15T19:00:35.589Z"
   },
   {
    "duration": 10,
    "start_time": "2022-05-15T19:00:35.690Z"
   },
   {
    "duration": 8,
    "start_time": "2022-05-15T19:02:41.482Z"
   },
   {
    "duration": 531,
    "start_time": "2022-05-15T19:02:48.267Z"
   },
   {
    "duration": 968,
    "start_time": "2022-05-15T19:02:48.801Z"
   },
   {
    "duration": 28,
    "start_time": "2022-05-15T19:02:49.772Z"
   },
   {
    "duration": 5,
    "start_time": "2022-05-15T19:02:49.803Z"
   },
   {
    "duration": 109,
    "start_time": "2022-05-15T19:02:49.811Z"
   },
   {
    "duration": 11,
    "start_time": "2022-05-15T19:02:49.922Z"
   },
   {
    "duration": 143,
    "start_time": "2022-05-15T19:08:07.697Z"
   },
   {
    "duration": 13,
    "start_time": "2022-05-15T19:08:22.776Z"
   },
   {
    "duration": 13,
    "start_time": "2022-05-15T19:08:34.762Z"
   },
   {
    "duration": 495,
    "start_time": "2022-05-15T19:08:53.291Z"
   },
   {
    "duration": 971,
    "start_time": "2022-05-15T19:08:53.788Z"
   },
   {
    "duration": 27,
    "start_time": "2022-05-15T19:08:54.761Z"
   },
   {
    "duration": 5,
    "start_time": "2022-05-15T19:08:54.791Z"
   },
   {
    "duration": 101,
    "start_time": "2022-05-15T19:08:54.798Z"
   },
   {
    "duration": 152,
    "start_time": "2022-05-15T19:08:54.901Z"
   },
   {
    "duration": 0,
    "start_time": "2022-05-15T19:08:55.056Z"
   },
   {
    "duration": 16,
    "start_time": "2022-05-15T19:10:09.619Z"
   },
   {
    "duration": 15,
    "start_time": "2022-05-15T19:26:03.102Z"
   },
   {
    "duration": 566,
    "start_time": "2022-05-15T19:26:11.362Z"
   },
   {
    "duration": 979,
    "start_time": "2022-05-15T19:26:11.931Z"
   },
   {
    "duration": 28,
    "start_time": "2022-05-15T19:26:12.913Z"
   },
   {
    "duration": 10,
    "start_time": "2022-05-15T19:26:12.944Z"
   },
   {
    "duration": 108,
    "start_time": "2022-05-15T19:26:12.956Z"
   },
   {
    "duration": 25,
    "start_time": "2022-05-15T19:26:13.067Z"
   },
   {
    "duration": 10,
    "start_time": "2022-05-15T19:26:28.457Z"
   },
   {
    "duration": 134,
    "start_time": "2022-05-15T19:26:53.936Z"
   },
   {
    "duration": 13,
    "start_time": "2022-05-15T19:27:01.633Z"
   },
   {
    "duration": 540,
    "start_time": "2022-05-15T19:27:18.002Z"
   },
   {
    "duration": 942,
    "start_time": "2022-05-15T19:27:18.544Z"
   },
   {
    "duration": 24,
    "start_time": "2022-05-15T19:27:19.488Z"
   },
   {
    "duration": 4,
    "start_time": "2022-05-15T19:27:19.515Z"
   },
   {
    "duration": 98,
    "start_time": "2022-05-15T19:27:19.522Z"
   },
   {
    "duration": 40,
    "start_time": "2022-05-15T19:27:19.622Z"
   },
   {
    "duration": 20,
    "start_time": "2022-05-15T19:27:44.285Z"
   },
   {
    "duration": 10,
    "start_time": "2022-05-15T19:27:56.918Z"
   },
   {
    "duration": 10,
    "start_time": "2022-05-15T19:28:06.143Z"
   },
   {
    "duration": 12,
    "start_time": "2022-05-15T19:28:13.564Z"
   },
   {
    "duration": 582,
    "start_time": "2022-05-15T19:28:27.411Z"
   },
   {
    "duration": 915,
    "start_time": "2022-05-15T19:28:27.996Z"
   },
   {
    "duration": 23,
    "start_time": "2022-05-15T19:28:28.913Z"
   },
   {
    "duration": 13,
    "start_time": "2022-05-15T19:28:28.938Z"
   },
   {
    "duration": 99,
    "start_time": "2022-05-15T19:28:28.954Z"
   },
   {
    "duration": 16,
    "start_time": "2022-05-15T19:28:29.055Z"
   },
   {
    "duration": 539,
    "start_time": "2022-05-15T19:28:45.605Z"
   },
   {
    "duration": 977,
    "start_time": "2022-05-15T19:28:46.147Z"
   },
   {
    "duration": 28,
    "start_time": "2022-05-15T19:28:47.126Z"
   },
   {
    "duration": 5,
    "start_time": "2022-05-15T19:28:47.157Z"
   },
   {
    "duration": 106,
    "start_time": "2022-05-15T19:28:47.163Z"
   },
   {
    "duration": 16,
    "start_time": "2022-05-15T19:28:47.271Z"
   },
   {
    "duration": 654,
    "start_time": "2022-05-15T19:29:00.366Z"
   },
   {
    "duration": 988,
    "start_time": "2022-05-15T19:29:01.023Z"
   },
   {
    "duration": 30,
    "start_time": "2022-05-15T19:29:02.013Z"
   },
   {
    "duration": 10,
    "start_time": "2022-05-15T19:29:02.045Z"
   },
   {
    "duration": 106,
    "start_time": "2022-05-15T19:29:02.057Z"
   },
   {
    "duration": 15,
    "start_time": "2022-05-15T19:29:02.165Z"
   },
   {
    "duration": 16,
    "start_time": "2022-05-15T19:29:48.399Z"
   },
   {
    "duration": 5,
    "start_time": "2022-05-15T19:34:55.833Z"
   },
   {
    "duration": 17,
    "start_time": "2022-05-15T19:35:07.208Z"
   },
   {
    "duration": 5,
    "start_time": "2022-05-15T19:36:16.483Z"
   },
   {
    "duration": 5,
    "start_time": "2022-05-15T19:36:29.108Z"
   },
   {
    "duration": 97,
    "start_time": "2022-05-15T19:36:31.276Z"
   },
   {
    "duration": 37,
    "start_time": "2022-05-15T19:36:37.238Z"
   },
   {
    "duration": 3,
    "start_time": "2022-05-15T19:36:37.278Z"
   },
   {
    "duration": 23,
    "start_time": "2022-05-15T19:36:37.283Z"
   },
   {
    "duration": 5,
    "start_time": "2022-05-15T19:36:37.308Z"
   },
   {
    "duration": 115,
    "start_time": "2022-05-15T19:36:37.315Z"
   },
   {
    "duration": 94,
    "start_time": "2022-05-15T19:36:41.060Z"
   },
   {
    "duration": 527,
    "start_time": "2022-05-15T19:36:53.165Z"
   },
   {
    "duration": 907,
    "start_time": "2022-05-15T19:36:53.695Z"
   },
   {
    "duration": 24,
    "start_time": "2022-05-15T19:36:54.604Z"
   },
   {
    "duration": 6,
    "start_time": "2022-05-15T19:36:54.630Z"
   },
   {
    "duration": 121,
    "start_time": "2022-05-15T19:36:54.638Z"
   },
   {
    "duration": 16,
    "start_time": "2022-05-15T19:36:54.761Z"
   },
   {
    "duration": 16,
    "start_time": "2022-05-15T19:36:54.779Z"
   },
   {
    "duration": 5,
    "start_time": "2022-05-15T19:37:38.411Z"
   },
   {
    "duration": 588,
    "start_time": "2022-05-15T19:40:14.922Z"
   },
   {
    "duration": 972,
    "start_time": "2022-05-15T19:40:15.513Z"
   },
   {
    "duration": 28,
    "start_time": "2022-05-15T19:40:16.488Z"
   },
   {
    "duration": 5,
    "start_time": "2022-05-15T19:40:16.520Z"
   },
   {
    "duration": 61,
    "start_time": "2022-05-15T19:40:16.528Z"
   },
   {
    "duration": 16,
    "start_time": "2022-05-15T19:40:16.591Z"
   },
   {
    "duration": 49,
    "start_time": "2022-05-15T19:40:16.610Z"
   },
   {
    "duration": 59,
    "start_time": "2022-05-15T19:41:45.665Z"
   },
   {
    "duration": 11,
    "start_time": "2022-05-15T19:42:00.149Z"
   },
   {
    "duration": 70,
    "start_time": "2022-05-15T19:47:00.398Z"
   },
   {
    "duration": 630,
    "start_time": "2022-05-16T08:07:41.635Z"
   },
   {
    "duration": 1929,
    "start_time": "2022-05-16T08:07:42.268Z"
   },
   {
    "duration": 28,
    "start_time": "2022-05-16T08:07:44.200Z"
   },
   {
    "duration": 5,
    "start_time": "2022-05-16T08:07:44.231Z"
   },
   {
    "duration": 50,
    "start_time": "2022-05-16T08:07:44.239Z"
   },
   {
    "duration": 17,
    "start_time": "2022-05-16T08:07:44.291Z"
   },
   {
    "duration": 173,
    "start_time": "2022-05-16T08:09:42.714Z"
   },
   {
    "duration": 28,
    "start_time": "2022-05-16T08:16:09.326Z"
   },
   {
    "duration": 9,
    "start_time": "2022-05-16T08:18:16.611Z"
   },
   {
    "duration": 46,
    "start_time": "2022-05-16T08:19:12.275Z"
   },
   {
    "duration": 14,
    "start_time": "2022-05-16T08:19:51.299Z"
   },
   {
    "duration": 11,
    "start_time": "2022-05-16T08:20:15.469Z"
   },
   {
    "duration": 8,
    "start_time": "2022-05-16T08:21:14.542Z"
   },
   {
    "duration": 61,
    "start_time": "2022-05-16T08:21:26.174Z"
   },
   {
    "duration": 5,
    "start_time": "2022-05-16T08:31:54.041Z"
   },
   {
    "duration": 945,
    "start_time": "2022-05-16T08:32:00.154Z"
   },
   {
    "duration": 234,
    "start_time": "2022-05-16T08:32:38.667Z"
   },
   {
    "duration": 194,
    "start_time": "2022-05-16T08:33:01.092Z"
   },
   {
    "duration": 205,
    "start_time": "2022-05-16T08:33:12.363Z"
   },
   {
    "duration": 189,
    "start_time": "2022-05-16T08:33:58.901Z"
   },
   {
    "duration": 202,
    "start_time": "2022-05-16T08:34:10.790Z"
   },
   {
    "duration": 202,
    "start_time": "2022-05-16T08:34:55.782Z"
   },
   {
    "duration": 272,
    "start_time": "2022-05-16T08:34:59.854Z"
   },
   {
    "duration": 214,
    "start_time": "2022-05-16T08:35:06.968Z"
   },
   {
    "duration": 229,
    "start_time": "2022-05-16T08:35:12.038Z"
   },
   {
    "duration": 192,
    "start_time": "2022-05-16T08:35:34.632Z"
   },
   {
    "duration": 202,
    "start_time": "2022-05-16T08:35:38.800Z"
   },
   {
    "duration": 211,
    "start_time": "2022-05-16T08:35:46.432Z"
   },
   {
    "duration": 204,
    "start_time": "2022-05-16T08:35:50.353Z"
   },
   {
    "duration": 300,
    "start_time": "2022-05-16T08:38:19.340Z"
   },
   {
    "duration": 309,
    "start_time": "2022-05-16T08:38:32.453Z"
   },
   {
    "duration": 212,
    "start_time": "2022-05-16T08:38:50.142Z"
   },
   {
    "duration": 196,
    "start_time": "2022-05-16T08:38:52.677Z"
   },
   {
    "duration": 453,
    "start_time": "2022-05-16T08:39:06.359Z"
   },
   {
    "duration": 215,
    "start_time": "2022-05-16T08:39:10.493Z"
   },
   {
    "duration": 208,
    "start_time": "2022-05-16T08:39:22.992Z"
   },
   {
    "duration": 204,
    "start_time": "2022-05-16T08:39:27.190Z"
   },
   {
    "duration": 7,
    "start_time": "2022-05-16T08:45:00.704Z"
   },
   {
    "duration": 2134,
    "start_time": "2022-05-16T08:45:18.176Z"
   },
   {
    "duration": 21,
    "start_time": "2022-05-16T08:45:53.683Z"
   },
   {
    "duration": 128,
    "start_time": "2022-05-16T08:46:17.650Z"
   },
   {
    "duration": 7,
    "start_time": "2022-05-16T08:46:23.859Z"
   },
   {
    "duration": 577,
    "start_time": "2022-05-16T08:49:12.066Z"
   },
   {
    "duration": 1631,
    "start_time": "2022-05-16T08:49:12.646Z"
   },
   {
    "duration": 28,
    "start_time": "2022-05-16T08:49:14.279Z"
   },
   {
    "duration": 5,
    "start_time": "2022-05-16T08:49:14.310Z"
   },
   {
    "duration": 65,
    "start_time": "2022-05-16T08:49:14.317Z"
   },
   {
    "duration": 15,
    "start_time": "2022-05-16T08:49:14.385Z"
   },
   {
    "duration": 14,
    "start_time": "2022-05-16T08:49:14.403Z"
   },
   {
    "duration": 84,
    "start_time": "2022-05-16T08:49:14.419Z"
   },
   {
    "duration": 246,
    "start_time": "2022-05-16T08:49:14.506Z"
   },
   {
    "duration": 225,
    "start_time": "2022-05-16T08:49:14.758Z"
   },
   {
    "duration": 217,
    "start_time": "2022-05-16T08:49:14.986Z"
   },
   {
    "duration": 224,
    "start_time": "2022-05-16T08:49:15.205Z"
   },
   {
    "duration": 234,
    "start_time": "2022-05-16T08:49:15.432Z"
   },
   {
    "duration": 242,
    "start_time": "2022-05-16T08:49:15.669Z"
   },
   {
    "duration": 7,
    "start_time": "2022-05-16T08:49:15.913Z"
   },
   {
    "duration": 10,
    "start_time": "2022-05-16T08:49:15.922Z"
   },
   {
    "duration": 27,
    "start_time": "2022-05-16T08:49:15.934Z"
   },
   {
    "duration": 136,
    "start_time": "2022-05-16T08:49:15.964Z"
   },
   {
    "duration": 159,
    "start_time": "2022-05-16T09:02:50.827Z"
   },
   {
    "duration": 349,
    "start_time": "2022-05-16T09:03:40.772Z"
   },
   {
    "duration": 2371,
    "start_time": "2022-05-16T09:09:47.109Z"
   },
   {
    "duration": 16,
    "start_time": "2022-05-16T09:10:00.720Z"
   },
   {
    "duration": 14,
    "start_time": "2022-05-16T09:14:30.815Z"
   },
   {
    "duration": 15,
    "start_time": "2022-05-16T09:14:42.662Z"
   },
   {
    "duration": 4,
    "start_time": "2022-05-16T09:15:09.567Z"
   },
   {
    "duration": 2327,
    "start_time": "2022-05-16T09:15:16.824Z"
   },
   {
    "duration": 5111,
    "start_time": "2022-05-16T09:15:43.841Z"
   },
   {
    "duration": 4785,
    "start_time": "2022-05-16T09:16:06.969Z"
   },
   {
    "duration": 4699,
    "start_time": "2022-05-16T09:16:57.931Z"
   },
   {
    "duration": 4592,
    "start_time": "2022-05-16T09:17:41.442Z"
   },
   {
    "duration": 5057,
    "start_time": "2022-05-16T09:17:50.067Z"
   },
   {
    "duration": 38,
    "start_time": "2022-05-16T09:18:06.270Z"
   },
   {
    "duration": 3,
    "start_time": "2022-05-16T09:18:06.311Z"
   },
   {
    "duration": 23,
    "start_time": "2022-05-16T09:18:06.316Z"
   },
   {
    "duration": 13,
    "start_time": "2022-05-16T09:18:06.342Z"
   },
   {
    "duration": 41,
    "start_time": "2022-05-16T09:18:06.357Z"
   },
   {
    "duration": 16,
    "start_time": "2022-05-16T09:18:06.400Z"
   },
   {
    "duration": 40,
    "start_time": "2022-05-16T09:18:06.418Z"
   },
   {
    "duration": 57,
    "start_time": "2022-05-16T09:18:06.460Z"
   },
   {
    "duration": 224,
    "start_time": "2022-05-16T09:18:06.520Z"
   },
   {
    "duration": 279,
    "start_time": "2022-05-16T09:18:06.748Z"
   },
   {
    "duration": 203,
    "start_time": "2022-05-16T09:18:07.029Z"
   },
   {
    "duration": 224,
    "start_time": "2022-05-16T09:18:07.234Z"
   },
   {
    "duration": 215,
    "start_time": "2022-05-16T09:18:07.461Z"
   },
   {
    "duration": 228,
    "start_time": "2022-05-16T09:18:07.679Z"
   },
   {
    "duration": 7,
    "start_time": "2022-05-16T09:18:07.909Z"
   },
   {
    "duration": 9,
    "start_time": "2022-05-16T09:18:07.918Z"
   },
   {
    "duration": 362,
    "start_time": "2022-05-16T09:18:07.929Z"
   },
   {
    "duration": 15,
    "start_time": "2022-05-16T09:18:08.294Z"
   },
   {
    "duration": 25,
    "start_time": "2022-05-16T09:19:07.846Z"
   },
   {
    "duration": 5010,
    "start_time": "2022-05-16T09:19:27.246Z"
   },
   {
    "duration": 7,
    "start_time": "2022-05-16T09:21:47.155Z"
   },
   {
    "duration": 582,
    "start_time": "2022-05-16T09:22:20.807Z"
   },
   {
    "duration": 1449,
    "start_time": "2022-05-16T09:22:21.392Z"
   },
   {
    "duration": 29,
    "start_time": "2022-05-16T09:22:22.852Z"
   },
   {
    "duration": 5,
    "start_time": "2022-05-16T09:22:22.883Z"
   },
   {
    "duration": 63,
    "start_time": "2022-05-16T09:22:22.890Z"
   },
   {
    "duration": 15,
    "start_time": "2022-05-16T09:22:22.955Z"
   },
   {
    "duration": 18,
    "start_time": "2022-05-16T09:22:22.972Z"
   },
   {
    "duration": 76,
    "start_time": "2022-05-16T09:22:22.992Z"
   },
   {
    "duration": 229,
    "start_time": "2022-05-16T09:22:23.072Z"
   },
   {
    "duration": 217,
    "start_time": "2022-05-16T09:22:23.304Z"
   },
   {
    "duration": 211,
    "start_time": "2022-05-16T09:22:23.523Z"
   },
   {
    "duration": 234,
    "start_time": "2022-05-16T09:22:23.737Z"
   },
   {
    "duration": 303,
    "start_time": "2022-05-16T09:22:23.973Z"
   },
   {
    "duration": 247,
    "start_time": "2022-05-16T09:22:24.279Z"
   },
   {
    "duration": 8,
    "start_time": "2022-05-16T09:22:24.528Z"
   },
   {
    "duration": 3,
    "start_time": "2022-05-16T09:22:24.551Z"
   },
   {
    "duration": 448,
    "start_time": "2022-05-16T09:22:24.556Z"
   },
   {
    "duration": 25,
    "start_time": "2022-05-16T09:22:25.006Z"
   },
   {
    "duration": 4758,
    "start_time": "2022-05-16T09:22:25.033Z"
   },
   {
    "duration": 4586,
    "start_time": "2022-05-16T09:22:29.794Z"
   },
   {
    "duration": 4,
    "start_time": "2022-05-16T09:22:34.383Z"
   },
   {
    "duration": 73,
    "start_time": "2022-05-16T09:22:34.389Z"
   },
   {
    "duration": 4459,
    "start_time": "2022-05-16T09:23:16.487Z"
   },
   {
    "duration": 16,
    "start_time": "2022-05-16T09:26:37.372Z"
   },
   {
    "duration": 3457,
    "start_time": "2022-05-16T09:28:17.031Z"
   },
   {
    "duration": 14,
    "start_time": "2022-05-16T09:30:11.569Z"
   },
   {
    "duration": 13,
    "start_time": "2022-05-16T09:30:30.260Z"
   },
   {
    "duration": 7,
    "start_time": "2022-05-16T09:30:34.243Z"
   },
   {
    "duration": 7,
    "start_time": "2022-05-16T09:31:02.548Z"
   },
   {
    "duration": 14,
    "start_time": "2022-05-16T09:31:36.694Z"
   },
   {
    "duration": 7,
    "start_time": "2022-05-16T09:31:44.279Z"
   },
   {
    "duration": 37,
    "start_time": "2022-05-16T09:31:49.328Z"
   },
   {
    "duration": 4,
    "start_time": "2022-05-16T09:31:49.368Z"
   },
   {
    "duration": 28,
    "start_time": "2022-05-16T09:31:49.373Z"
   },
   {
    "duration": 4,
    "start_time": "2022-05-16T09:31:49.404Z"
   },
   {
    "duration": 57,
    "start_time": "2022-05-16T09:31:49.410Z"
   },
   {
    "duration": 16,
    "start_time": "2022-05-16T09:31:49.469Z"
   },
   {
    "duration": 13,
    "start_time": "2022-05-16T09:31:49.487Z"
   },
   {
    "duration": 84,
    "start_time": "2022-05-16T09:31:49.502Z"
   },
   {
    "duration": 214,
    "start_time": "2022-05-16T09:31:49.588Z"
   },
   {
    "duration": 217,
    "start_time": "2022-05-16T09:31:49.806Z"
   },
   {
    "duration": 206,
    "start_time": "2022-05-16T09:31:50.025Z"
   },
   {
    "duration": 225,
    "start_time": "2022-05-16T09:31:50.233Z"
   },
   {
    "duration": 211,
    "start_time": "2022-05-16T09:31:50.460Z"
   },
   {
    "duration": 224,
    "start_time": "2022-05-16T09:31:50.674Z"
   },
   {
    "duration": 13,
    "start_time": "2022-05-16T09:31:50.901Z"
   },
   {
    "duration": 25,
    "start_time": "2022-05-16T09:31:50.916Z"
   },
   {
    "duration": 557,
    "start_time": "2022-05-16T09:32:05.338Z"
   },
   {
    "duration": 1472,
    "start_time": "2022-05-16T09:32:05.897Z"
   },
   {
    "duration": 28,
    "start_time": "2022-05-16T09:32:07.371Z"
   },
   {
    "duration": 5,
    "start_time": "2022-05-16T09:32:07.402Z"
   },
   {
    "duration": 56,
    "start_time": "2022-05-16T09:32:07.408Z"
   },
   {
    "duration": 15,
    "start_time": "2022-05-16T09:32:07.467Z"
   },
   {
    "duration": 11,
    "start_time": "2022-05-16T09:32:07.485Z"
   },
   {
    "duration": 86,
    "start_time": "2022-05-16T09:32:07.498Z"
   },
   {
    "duration": 226,
    "start_time": "2022-05-16T09:32:07.586Z"
   },
   {
    "duration": 267,
    "start_time": "2022-05-16T09:32:07.816Z"
   },
   {
    "duration": 217,
    "start_time": "2022-05-16T09:32:08.085Z"
   },
   {
    "duration": 240,
    "start_time": "2022-05-16T09:32:08.304Z"
   },
   {
    "duration": 216,
    "start_time": "2022-05-16T09:32:08.551Z"
   },
   {
    "duration": 230,
    "start_time": "2022-05-16T09:32:08.770Z"
   },
   {
    "duration": 15,
    "start_time": "2022-05-16T09:32:09.002Z"
   },
   {
    "duration": 18,
    "start_time": "2022-05-16T09:32:09.019Z"
   },
   {
    "duration": 3700,
    "start_time": "2022-05-16T09:32:09.052Z"
   },
   {
    "duration": 357,
    "start_time": "2022-05-16T09:32:12.754Z"
   },
   {
    "duration": 16,
    "start_time": "2022-05-16T09:32:13.113Z"
   },
   {
    "duration": 4592,
    "start_time": "2022-05-16T09:32:13.131Z"
   },
   {
    "duration": 4719,
    "start_time": "2022-05-16T09:32:17.725Z"
   },
   {
    "duration": 3,
    "start_time": "2022-05-16T09:32:22.447Z"
   },
   {
    "duration": 75,
    "start_time": "2022-05-16T09:32:22.453Z"
   },
   {
    "duration": 13,
    "start_time": "2022-05-16T09:32:38.282Z"
   },
   {
    "duration": 7,
    "start_time": "2022-05-16T09:32:41.833Z"
   },
   {
    "duration": 2563,
    "start_time": "2022-05-16T09:39:36.495Z"
   },
   {
    "duration": 4991,
    "start_time": "2022-05-16T09:40:33.433Z"
   },
   {
    "duration": 176,
    "start_time": "2022-05-16T09:41:03.152Z"
   },
   {
    "duration": 4875,
    "start_time": "2022-05-16T09:41:21.011Z"
   },
   {
    "duration": 400,
    "start_time": "2022-05-16T09:46:03.675Z"
   },
   {
    "duration": 279,
    "start_time": "2022-05-16T09:49:05.911Z"
   },
   {
    "duration": 287,
    "start_time": "2022-05-16T09:52:31.308Z"
   },
   {
    "duration": 286,
    "start_time": "2022-05-16T09:52:44.013Z"
   },
   {
    "duration": 2915,
    "start_time": "2022-05-16T09:52:52.653Z"
   },
   {
    "duration": 3332,
    "start_time": "2022-05-16T09:53:01.503Z"
   },
   {
    "duration": 3278,
    "start_time": "2022-05-16T09:53:27.263Z"
   },
   {
    "duration": 287,
    "start_time": "2022-05-16T09:55:36.330Z"
   },
   {
    "duration": 2931,
    "start_time": "2022-05-16T09:55:48.578Z"
   },
   {
    "duration": 436,
    "start_time": "2022-05-16T09:56:05.845Z"
   },
   {
    "duration": 298,
    "start_time": "2022-05-16T09:56:17.341Z"
   },
   {
    "duration": 3356,
    "start_time": "2022-05-16T09:56:27.707Z"
   },
   {
    "duration": 3038,
    "start_time": "2022-05-16T09:58:51.961Z"
   },
   {
    "duration": 3514,
    "start_time": "2022-05-16T10:00:39.571Z"
   },
   {
    "duration": 223,
    "start_time": "2022-05-16T10:10:56.302Z"
   },
   {
    "duration": 3267,
    "start_time": "2022-05-16T10:11:13.144Z"
   },
   {
    "duration": 3169,
    "start_time": "2022-05-16T10:11:36.308Z"
   },
   {
    "duration": 3188,
    "start_time": "2022-05-16T10:12:18.336Z"
   },
   {
    "duration": 14,
    "start_time": "2022-05-16T10:14:45.796Z"
   },
   {
    "duration": 5,
    "start_time": "2022-05-16T10:15:08.777Z"
   },
   {
    "duration": 563,
    "start_time": "2022-05-16T10:15:20.017Z"
   },
   {
    "duration": 1362,
    "start_time": "2022-05-16T10:15:20.582Z"
   },
   {
    "duration": 28,
    "start_time": "2022-05-16T10:15:21.946Z"
   },
   {
    "duration": 5,
    "start_time": "2022-05-16T10:15:21.977Z"
   },
   {
    "duration": 44,
    "start_time": "2022-05-16T10:15:21.984Z"
   },
   {
    "duration": 30,
    "start_time": "2022-05-16T10:15:22.030Z"
   },
   {
    "duration": 6,
    "start_time": "2022-05-16T10:15:22.062Z"
   },
   {
    "duration": 840,
    "start_time": "2022-05-16T10:15:22.070Z"
   },
   {
    "duration": 0,
    "start_time": "2022-05-16T10:15:22.913Z"
   },
   {
    "duration": 0,
    "start_time": "2022-05-16T10:15:22.914Z"
   },
   {
    "duration": 1,
    "start_time": "2022-05-16T10:15:22.915Z"
   },
   {
    "duration": 0,
    "start_time": "2022-05-16T10:15:22.917Z"
   },
   {
    "duration": 0,
    "start_time": "2022-05-16T10:15:22.918Z"
   },
   {
    "duration": 0,
    "start_time": "2022-05-16T10:15:22.920Z"
   },
   {
    "duration": 0,
    "start_time": "2022-05-16T10:15:22.921Z"
   },
   {
    "duration": 0,
    "start_time": "2022-05-16T10:15:22.923Z"
   },
   {
    "duration": 513,
    "start_time": "2022-05-16T10:21:46.679Z"
   },
   {
    "duration": 1399,
    "start_time": "2022-05-16T10:21:47.194Z"
   },
   {
    "duration": 27,
    "start_time": "2022-05-16T10:21:48.595Z"
   },
   {
    "duration": 5,
    "start_time": "2022-05-16T10:21:48.626Z"
   },
   {
    "duration": 58,
    "start_time": "2022-05-16T10:21:48.634Z"
   },
   {
    "duration": 15,
    "start_time": "2022-05-16T10:21:48.694Z"
   },
   {
    "duration": 41,
    "start_time": "2022-05-16T10:21:48.711Z"
   },
   {
    "duration": 3551,
    "start_time": "2022-05-16T10:21:48.754Z"
   },
   {
    "duration": 4,
    "start_time": "2022-05-16T10:21:52.308Z"
   },
   {
    "duration": 100,
    "start_time": "2022-05-16T10:21:52.316Z"
   },
   {
    "duration": 14,
    "start_time": "2022-05-16T10:28:24.882Z"
   },
   {
    "duration": 6,
    "start_time": "2022-05-16T10:31:39.841Z"
   },
   {
    "duration": 3306,
    "start_time": "2022-05-16T10:31:47.415Z"
   },
   {
    "duration": 357,
    "start_time": "2022-05-16T10:38:34.162Z"
   },
   {
    "duration": 241,
    "start_time": "2022-05-16T10:43:50.388Z"
   },
   {
    "duration": 181,
    "start_time": "2022-05-16T10:45:06.254Z"
   },
   {
    "duration": 33,
    "start_time": "2022-05-16T10:48:32.652Z"
   },
   {
    "duration": 260,
    "start_time": "2022-05-16T10:48:39.198Z"
   },
   {
    "duration": 235,
    "start_time": "2022-05-16T10:50:28.937Z"
   },
   {
    "duration": 527,
    "start_time": "2022-05-16T10:51:56.393Z"
   },
   {
    "duration": 1418,
    "start_time": "2022-05-16T10:51:56.923Z"
   },
   {
    "duration": 29,
    "start_time": "2022-05-16T10:51:58.343Z"
   },
   {
    "duration": 4,
    "start_time": "2022-05-16T10:51:58.375Z"
   },
   {
    "duration": 47,
    "start_time": "2022-05-16T10:51:58.381Z"
   },
   {
    "duration": 32,
    "start_time": "2022-05-16T10:51:58.430Z"
   },
   {
    "duration": 13,
    "start_time": "2022-05-16T10:51:58.464Z"
   },
   {
    "duration": 6,
    "start_time": "2022-05-16T10:51:58.479Z"
   },
   {
    "duration": 3460,
    "start_time": "2022-05-16T10:51:58.487Z"
   },
   {
    "duration": 3,
    "start_time": "2022-05-16T10:54:50.030Z"
   },
   {
    "duration": 79,
    "start_time": "2022-05-16T10:54:50.035Z"
   },
   {
    "duration": 574,
    "start_time": "2022-05-16T10:59:13.621Z"
   },
   {
    "duration": 1473,
    "start_time": "2022-05-16T10:59:14.198Z"
   },
   {
    "duration": 28,
    "start_time": "2022-05-16T10:59:15.674Z"
   },
   {
    "duration": 5,
    "start_time": "2022-05-16T10:59:15.705Z"
   },
   {
    "duration": 66,
    "start_time": "2022-05-16T10:59:15.712Z"
   },
   {
    "duration": 17,
    "start_time": "2022-05-16T10:59:15.780Z"
   },
   {
    "duration": 14,
    "start_time": "2022-05-16T10:59:15.799Z"
   },
   {
    "duration": 38,
    "start_time": "2022-05-16T10:59:15.815Z"
   },
   {
    "duration": 3450,
    "start_time": "2022-05-16T10:59:15.855Z"
   },
   {
    "duration": 500,
    "start_time": "2022-05-16T10:59:19.309Z"
   },
   {
    "duration": 4,
    "start_time": "2022-05-16T10:59:19.811Z"
   },
   {
    "duration": 80,
    "start_time": "2022-05-16T10:59:19.817Z"
   },
   {
    "duration": 262,
    "start_time": "2022-05-16T11:02:02.683Z"
   },
   {
    "duration": 285,
    "start_time": "2022-05-16T11:03:22.326Z"
   },
   {
    "duration": 558,
    "start_time": "2022-05-16T11:03:29.549Z"
   },
   {
    "duration": 643,
    "start_time": "2022-05-16T11:04:43.274Z"
   },
   {
    "duration": 707,
    "start_time": "2022-05-16T11:05:15.376Z"
   },
   {
    "duration": 544,
    "start_time": "2022-05-16T11:06:04.826Z"
   },
   {
    "duration": 161,
    "start_time": "2022-05-16T11:14:31.481Z"
   },
   {
    "duration": 264,
    "start_time": "2022-05-16T11:14:38.145Z"
   },
   {
    "duration": 256,
    "start_time": "2022-05-16T11:14:59.802Z"
   },
   {
    "duration": 273,
    "start_time": "2022-05-16T11:15:05.698Z"
   },
   {
    "duration": 253,
    "start_time": "2022-05-16T11:15:11.946Z"
   },
   {
    "duration": 3181,
    "start_time": "2022-05-16T11:28:19.364Z"
   },
   {
    "duration": 3481,
    "start_time": "2022-05-16T11:29:38.999Z"
   },
   {
    "duration": 397,
    "start_time": "2022-05-16T11:58:51.472Z"
   },
   {
    "duration": 541,
    "start_time": "2022-05-16T11:59:06.832Z"
   },
   {
    "duration": 498,
    "start_time": "2022-05-16T11:59:51.992Z"
   },
   {
    "duration": 532,
    "start_time": "2022-05-16T12:01:39.404Z"
   },
   {
    "duration": 66,
    "start_time": "2022-05-16T12:02:57.449Z"
   },
   {
    "duration": 660,
    "start_time": "2022-05-16T12:05:24.165Z"
   },
   {
    "duration": 445,
    "start_time": "2022-05-16T15:21:20.049Z"
   },
   {
    "duration": 416,
    "start_time": "2022-05-16T15:22:06.268Z"
   },
   {
    "duration": 456,
    "start_time": "2022-05-16T15:22:49.165Z"
   },
   {
    "duration": 409,
    "start_time": "2022-05-16T15:23:02.118Z"
   },
   {
    "duration": 17,
    "start_time": "2022-05-16T15:23:41.341Z"
   },
   {
    "duration": 175,
    "start_time": "2022-05-16T15:29:52.785Z"
   },
   {
    "duration": 156,
    "start_time": "2022-05-16T15:30:25.602Z"
   },
   {
    "duration": 170,
    "start_time": "2022-05-16T15:31:37.100Z"
   },
   {
    "duration": 159,
    "start_time": "2022-05-16T15:32:32.100Z"
   },
   {
    "duration": 156,
    "start_time": "2022-05-16T15:33:56.248Z"
   },
   {
    "duration": 422,
    "start_time": "2022-05-16T15:34:08.174Z"
   },
   {
    "duration": 156,
    "start_time": "2022-05-16T15:56:24.799Z"
   },
   {
    "duration": 4,
    "start_time": "2022-05-16T16:57:28.290Z"
   },
   {
    "duration": 11,
    "start_time": "2022-05-16T16:58:14.036Z"
   },
   {
    "duration": 7,
    "start_time": "2022-05-16T16:58:19.661Z"
   },
   {
    "duration": 7,
    "start_time": "2022-05-16T17:00:43.239Z"
   },
   {
    "duration": 7,
    "start_time": "2022-05-16T17:00:46.999Z"
   },
   {
    "duration": 10,
    "start_time": "2022-05-16T17:01:26.368Z"
   },
   {
    "duration": 7,
    "start_time": "2022-05-16T17:02:45.524Z"
   },
   {
    "duration": 7,
    "start_time": "2022-05-16T17:03:05.319Z"
   },
   {
    "duration": 6,
    "start_time": "2022-05-16T17:03:42.486Z"
   },
   {
    "duration": 6,
    "start_time": "2022-05-16T17:03:44.333Z"
   },
   {
    "duration": 9,
    "start_time": "2022-05-16T17:03:52.549Z"
   },
   {
    "duration": 10,
    "start_time": "2022-05-16T17:04:19.151Z"
   },
   {
    "duration": 9,
    "start_time": "2022-05-16T17:04:30.544Z"
   },
   {
    "duration": 10,
    "start_time": "2022-05-16T17:05:23.312Z"
   },
   {
    "duration": 8,
    "start_time": "2022-05-16T17:05:46.936Z"
   },
   {
    "duration": 147,
    "start_time": "2022-05-16T17:07:13.419Z"
   },
   {
    "duration": 165,
    "start_time": "2022-05-16T17:07:35.261Z"
   },
   {
    "duration": 9,
    "start_time": "2022-05-16T17:09:58.049Z"
   },
   {
    "duration": 163,
    "start_time": "2022-05-16T17:10:04.938Z"
   },
   {
    "duration": 167,
    "start_time": "2022-05-16T17:10:26.755Z"
   },
   {
    "duration": 214,
    "start_time": "2022-05-16T17:10:51.938Z"
   },
   {
    "duration": 157,
    "start_time": "2022-05-16T17:11:05.027Z"
   },
   {
    "duration": 256,
    "start_time": "2022-05-16T17:12:33.839Z"
   },
   {
    "duration": 157,
    "start_time": "2022-05-16T17:12:51.120Z"
   },
   {
    "duration": 159,
    "start_time": "2022-05-16T17:13:07.503Z"
   },
   {
    "duration": 163,
    "start_time": "2022-05-16T17:13:14.720Z"
   },
   {
    "duration": 153,
    "start_time": "2022-05-16T17:13:24.815Z"
   },
   {
    "duration": 219,
    "start_time": "2022-05-16T17:13:29.719Z"
   },
   {
    "duration": 166,
    "start_time": "2022-05-16T17:13:35.785Z"
   },
   {
    "duration": 173,
    "start_time": "2022-05-16T17:14:00.289Z"
   },
   {
    "duration": 13,
    "start_time": "2022-05-16T17:14:06.761Z"
   },
   {
    "duration": 12,
    "start_time": "2022-05-16T17:14:48.396Z"
   },
   {
    "duration": 286,
    "start_time": "2022-05-16T17:15:16.642Z"
   },
   {
    "duration": 154,
    "start_time": "2022-05-16T17:16:03.100Z"
   },
   {
    "duration": 153,
    "start_time": "2022-05-16T17:16:09.981Z"
   },
   {
    "duration": 159,
    "start_time": "2022-05-16T17:16:13.429Z"
   },
   {
    "duration": 158,
    "start_time": "2022-05-16T17:16:36.413Z"
   },
   {
    "duration": 149,
    "start_time": "2022-05-16T17:16:41.084Z"
   },
   {
    "duration": 154,
    "start_time": "2022-05-16T17:16:45.152Z"
   },
   {
    "duration": 298,
    "start_time": "2022-05-16T17:16:49.862Z"
   },
   {
    "duration": 280,
    "start_time": "2022-05-16T17:16:54.022Z"
   },
   {
    "duration": 153,
    "start_time": "2022-05-16T17:17:50.767Z"
   },
   {
    "duration": 7,
    "start_time": "2022-05-16T17:18:24.064Z"
   },
   {
    "duration": 6,
    "start_time": "2022-05-16T17:18:36.121Z"
   },
   {
    "duration": 9,
    "start_time": "2022-05-16T17:18:54.368Z"
   },
   {
    "duration": 8,
    "start_time": "2022-05-16T17:19:46.705Z"
   },
   {
    "duration": 143,
    "start_time": "2022-05-16T17:20:35.564Z"
   },
   {
    "duration": 9,
    "start_time": "2022-05-16T17:20:50.396Z"
   },
   {
    "duration": 166,
    "start_time": "2022-05-16T17:21:26.540Z"
   },
   {
    "duration": 159,
    "start_time": "2022-05-16T17:21:55.437Z"
   },
   {
    "duration": 212,
    "start_time": "2022-05-16T17:22:07.174Z"
   },
   {
    "duration": 9,
    "start_time": "2022-05-16T17:22:24.135Z"
   },
   {
    "duration": 9,
    "start_time": "2022-05-16T17:23:00.808Z"
   },
   {
    "duration": 10,
    "start_time": "2022-05-16T17:23:20.016Z"
   },
   {
    "duration": 10,
    "start_time": "2022-05-16T17:23:25.370Z"
   },
   {
    "duration": 311,
    "start_time": "2022-05-16T17:23:52.480Z"
   },
   {
    "duration": 169,
    "start_time": "2022-05-16T17:24:03.266Z"
   },
   {
    "duration": 164,
    "start_time": "2022-05-16T17:24:24.265Z"
   },
   {
    "duration": 11,
    "start_time": "2022-05-16T17:25:13.940Z"
   },
   {
    "duration": 184,
    "start_time": "2022-05-16T17:25:31.524Z"
   },
   {
    "duration": 11,
    "start_time": "2022-05-16T17:39:16.620Z"
   },
   {
    "duration": 18,
    "start_time": "2022-05-16T17:39:23.275Z"
   },
   {
    "duration": 21,
    "start_time": "2022-05-16T17:39:59.127Z"
   },
   {
    "duration": 19,
    "start_time": "2022-05-16T17:40:11.855Z"
   },
   {
    "duration": 1933,
    "start_time": "2022-05-16T17:40:32.225Z"
   },
   {
    "duration": 34,
    "start_time": "2022-05-16T17:40:34.161Z"
   },
   {
    "duration": 5,
    "start_time": "2022-05-16T17:40:34.198Z"
   },
   {
    "duration": 50,
    "start_time": "2022-05-16T17:40:34.206Z"
   },
   {
    "duration": 17,
    "start_time": "2022-05-16T17:40:34.258Z"
   },
   {
    "duration": 14,
    "start_time": "2022-05-16T17:40:34.277Z"
   },
   {
    "duration": 5,
    "start_time": "2022-05-16T17:40:34.293Z"
   },
   {
    "duration": 3518,
    "start_time": "2022-05-16T17:40:34.300Z"
   },
   {
    "duration": 530,
    "start_time": "2022-05-16T17:40:37.821Z"
   },
   {
    "duration": 18,
    "start_time": "2022-05-16T17:40:38.356Z"
   },
   {
    "duration": 7,
    "start_time": "2022-05-16T17:40:38.377Z"
   },
   {
    "duration": 186,
    "start_time": "2022-05-16T17:40:38.386Z"
   },
   {
    "duration": 167,
    "start_time": "2022-05-16T17:40:38.575Z"
   },
   {
    "duration": 9,
    "start_time": "2022-05-16T17:40:38.752Z"
   },
   {
    "duration": 184,
    "start_time": "2022-05-16T17:40:38.763Z"
   },
   {
    "duration": 259,
    "start_time": "2022-05-16T17:40:38.951Z"
   },
   {
    "duration": 10,
    "start_time": "2022-05-16T17:40:39.212Z"
   },
   {
    "duration": 197,
    "start_time": "2022-05-16T17:40:39.224Z"
   },
   {
    "duration": 11,
    "start_time": "2022-05-16T17:40:39.424Z"
   },
   {
    "duration": 57,
    "start_time": "2022-05-16T17:40:39.451Z"
   },
   {
    "duration": 164,
    "start_time": "2022-05-16T17:48:31.786Z"
   },
   {
    "duration": 1960,
    "start_time": "2022-05-16T17:48:45.603Z"
   },
   {
    "duration": 41,
    "start_time": "2022-05-16T17:48:47.565Z"
   },
   {
    "duration": 4,
    "start_time": "2022-05-16T17:48:47.609Z"
   },
   {
    "duration": 60,
    "start_time": "2022-05-16T17:48:47.616Z"
   },
   {
    "duration": 16,
    "start_time": "2022-05-16T17:48:47.679Z"
   },
   {
    "duration": 13,
    "start_time": "2022-05-16T17:48:47.698Z"
   },
   {
    "duration": 6,
    "start_time": "2022-05-16T17:48:47.713Z"
   },
   {
    "duration": 3377,
    "start_time": "2022-05-16T17:48:47.721Z"
   },
   {
    "duration": 530,
    "start_time": "2022-05-16T17:48:51.100Z"
   },
   {
    "duration": 172,
    "start_time": "2022-05-16T17:48:51.634Z"
   },
   {
    "duration": 0,
    "start_time": "2022-05-16T17:48:51.808Z"
   },
   {
    "duration": 0,
    "start_time": "2022-05-16T17:48:51.810Z"
   },
   {
    "duration": 0,
    "start_time": "2022-05-16T17:48:51.811Z"
   },
   {
    "duration": 0,
    "start_time": "2022-05-16T17:48:51.812Z"
   },
   {
    "duration": 0,
    "start_time": "2022-05-16T17:48:51.814Z"
   },
   {
    "duration": 0,
    "start_time": "2022-05-16T17:48:51.815Z"
   },
   {
    "duration": 0,
    "start_time": "2022-05-16T17:48:51.817Z"
   },
   {
    "duration": 0,
    "start_time": "2022-05-16T17:48:51.818Z"
   },
   {
    "duration": 0,
    "start_time": "2022-05-16T17:48:51.819Z"
   },
   {
    "duration": 0,
    "start_time": "2022-05-16T17:48:51.821Z"
   },
   {
    "duration": 24,
    "start_time": "2022-05-16T17:49:13.007Z"
   },
   {
    "duration": 11,
    "start_time": "2022-05-16T17:49:34.334Z"
   },
   {
    "duration": 1888,
    "start_time": "2022-05-16T17:49:41.275Z"
   },
   {
    "duration": 39,
    "start_time": "2022-05-16T17:49:43.167Z"
   },
   {
    "duration": 5,
    "start_time": "2022-05-16T17:49:43.209Z"
   },
   {
    "duration": 76,
    "start_time": "2022-05-16T17:49:43.218Z"
   },
   {
    "duration": 21,
    "start_time": "2022-05-16T17:49:43.296Z"
   },
   {
    "duration": 34,
    "start_time": "2022-05-16T17:49:43.319Z"
   },
   {
    "duration": 14,
    "start_time": "2022-05-16T17:49:43.355Z"
   },
   {
    "duration": 3440,
    "start_time": "2022-05-16T17:49:43.371Z"
   },
   {
    "duration": 531,
    "start_time": "2022-05-16T17:49:46.813Z"
   },
   {
    "duration": 7,
    "start_time": "2022-05-16T17:49:47.352Z"
   },
   {
    "duration": 177,
    "start_time": "2022-05-16T17:49:47.362Z"
   },
   {
    "duration": 1,
    "start_time": "2022-05-16T17:49:47.541Z"
   },
   {
    "duration": 0,
    "start_time": "2022-05-16T17:49:47.543Z"
   },
   {
    "duration": 0,
    "start_time": "2022-05-16T17:49:47.544Z"
   },
   {
    "duration": 0,
    "start_time": "2022-05-16T17:49:47.546Z"
   },
   {
    "duration": 0,
    "start_time": "2022-05-16T17:49:47.551Z"
   },
   {
    "duration": 0,
    "start_time": "2022-05-16T17:49:47.552Z"
   },
   {
    "duration": 0,
    "start_time": "2022-05-16T17:49:47.554Z"
   },
   {
    "duration": 0,
    "start_time": "2022-05-16T17:49:47.556Z"
   },
   {
    "duration": 0,
    "start_time": "2022-05-16T17:49:47.557Z"
   },
   {
    "duration": 0,
    "start_time": "2022-05-16T17:49:47.558Z"
   },
   {
    "duration": 11,
    "start_time": "2022-05-16T17:49:59.055Z"
   },
   {
    "duration": 24,
    "start_time": "2022-05-16T17:50:19.088Z"
   },
   {
    "duration": 2163,
    "start_time": "2022-05-16T17:50:26.779Z"
   },
   {
    "duration": 44,
    "start_time": "2022-05-16T17:50:28.945Z"
   },
   {
    "duration": 6,
    "start_time": "2022-05-16T17:50:28.992Z"
   },
   {
    "duration": 82,
    "start_time": "2022-05-16T17:50:29.000Z"
   },
   {
    "duration": 23,
    "start_time": "2022-05-16T17:50:29.086Z"
   },
   {
    "duration": 41,
    "start_time": "2022-05-16T17:50:29.112Z"
   },
   {
    "duration": 7,
    "start_time": "2022-05-16T17:50:29.156Z"
   },
   {
    "duration": 3310,
    "start_time": "2022-05-16T17:50:29.165Z"
   },
   {
    "duration": 515,
    "start_time": "2022-05-16T17:50:32.477Z"
   },
   {
    "duration": 17,
    "start_time": "2022-05-16T17:50:32.994Z"
   },
   {
    "duration": 7,
    "start_time": "2022-05-16T17:50:33.013Z"
   },
   {
    "duration": 189,
    "start_time": "2022-05-16T17:50:33.022Z"
   },
   {
    "duration": 164,
    "start_time": "2022-05-16T17:50:33.213Z"
   },
   {
    "duration": 8,
    "start_time": "2022-05-16T17:50:33.381Z"
   },
   {
    "duration": 190,
    "start_time": "2022-05-16T17:50:33.392Z"
   },
   {
    "duration": 245,
    "start_time": "2022-05-16T17:50:33.585Z"
   },
   {
    "duration": 23,
    "start_time": "2022-05-16T17:50:33.832Z"
   },
   {
    "duration": 211,
    "start_time": "2022-05-16T17:50:33.857Z"
   },
   {
    "duration": 11,
    "start_time": "2022-05-16T17:50:34.070Z"
   },
   {
    "duration": 66,
    "start_time": "2022-05-16T17:50:34.083Z"
   },
   {
    "duration": 217,
    "start_time": "2022-05-16T17:54:23.270Z"
   },
   {
    "duration": 471,
    "start_time": "2022-05-16T17:54:48.947Z"
   },
   {
    "duration": 477,
    "start_time": "2022-05-16T17:58:37.686Z"
   },
   {
    "duration": 501,
    "start_time": "2022-05-16T17:59:02.558Z"
   },
   {
    "duration": 599,
    "start_time": "2022-05-16T18:01:00.322Z"
   },
   {
    "duration": 160,
    "start_time": "2022-05-16T18:20:20.775Z"
   },
   {
    "duration": 9,
    "start_time": "2022-05-16T18:20:27.729Z"
   },
   {
    "duration": 2340,
    "start_time": "2022-05-16T18:32:59.254Z"
   },
   {
    "duration": 40,
    "start_time": "2022-05-16T18:33:01.598Z"
   },
   {
    "duration": 21,
    "start_time": "2022-05-16T18:33:01.641Z"
   },
   {
    "duration": 63,
    "start_time": "2022-05-16T18:33:01.667Z"
   },
   {
    "duration": 30,
    "start_time": "2022-05-16T18:33:01.733Z"
   },
   {
    "duration": 43,
    "start_time": "2022-05-16T18:33:01.765Z"
   },
   {
    "duration": 48,
    "start_time": "2022-05-16T18:33:01.810Z"
   },
   {
    "duration": 4253,
    "start_time": "2022-05-16T18:33:01.861Z"
   },
   {
    "duration": 540,
    "start_time": "2022-05-16T18:33:06.117Z"
   },
   {
    "duration": 18,
    "start_time": "2022-05-16T18:33:06.661Z"
   },
   {
    "duration": 562,
    "start_time": "2022-05-16T18:33:06.682Z"
   },
   {
    "duration": 14,
    "start_time": "2022-05-16T18:33:07.251Z"
   },
   {
    "duration": 13,
    "start_time": "2022-05-16T18:33:07.268Z"
   },
   {
    "duration": 224,
    "start_time": "2022-05-16T18:33:07.283Z"
   },
   {
    "duration": 2886,
    "start_time": "2022-05-16T18:35:23.612Z"
   },
   {
    "duration": 46,
    "start_time": "2022-05-16T18:35:26.502Z"
   },
   {
    "duration": 7,
    "start_time": "2022-05-16T18:35:26.553Z"
   },
   {
    "duration": 103,
    "start_time": "2022-05-16T18:35:26.563Z"
   },
   {
    "duration": 17,
    "start_time": "2022-05-16T18:35:26.669Z"
   },
   {
    "duration": 16,
    "start_time": "2022-05-16T18:35:26.689Z"
   },
   {
    "duration": 44,
    "start_time": "2022-05-16T18:35:26.708Z"
   },
   {
    "duration": 4617,
    "start_time": "2022-05-16T18:35:26.754Z"
   },
   {
    "duration": 943,
    "start_time": "2022-05-16T18:35:31.374Z"
   },
   {
    "duration": 35,
    "start_time": "2022-05-16T18:35:32.320Z"
   },
   {
    "duration": 636,
    "start_time": "2022-05-16T18:35:32.358Z"
   },
   {
    "duration": 17,
    "start_time": "2022-05-16T18:35:32.997Z"
   },
   {
    "duration": 35,
    "start_time": "2022-05-16T18:35:33.017Z"
   },
   {
    "duration": 167,
    "start_time": "2022-05-16T18:35:33.054Z"
   },
   {
    "duration": 2749,
    "start_time": "2022-05-16T18:36:37.405Z"
   },
   {
    "duration": 41,
    "start_time": "2022-05-16T18:36:40.157Z"
   },
   {
    "duration": 6,
    "start_time": "2022-05-16T18:36:40.201Z"
   },
   {
    "duration": 99,
    "start_time": "2022-05-16T18:36:40.211Z"
   },
   {
    "duration": 17,
    "start_time": "2022-05-16T18:36:40.312Z"
   },
   {
    "duration": 18,
    "start_time": "2022-05-16T18:36:40.351Z"
   },
   {
    "duration": 8,
    "start_time": "2022-05-16T18:36:40.372Z"
   },
   {
    "duration": 3758,
    "start_time": "2022-05-16T18:36:40.383Z"
   },
   {
    "duration": 650,
    "start_time": "2022-05-16T18:36:44.151Z"
   },
   {
    "duration": 18,
    "start_time": "2022-05-16T18:36:44.805Z"
   },
   {
    "duration": 646,
    "start_time": "2022-05-16T18:36:44.826Z"
   },
   {
    "duration": 16,
    "start_time": "2022-05-16T18:36:45.475Z"
   },
   {
    "duration": 20,
    "start_time": "2022-05-16T18:36:45.494Z"
   },
   {
    "duration": 240,
    "start_time": "2022-05-16T18:36:45.517Z"
   },
   {
    "duration": 58,
    "start_time": "2022-05-16T18:37:59.485Z"
   },
   {
    "duration": 21,
    "start_time": "2022-05-16T18:38:39.469Z"
   },
   {
    "duration": 21,
    "start_time": "2022-05-16T18:39:16.982Z"
   },
   {
    "duration": 2255,
    "start_time": "2022-05-16T18:39:28.613Z"
   },
   {
    "duration": 41,
    "start_time": "2022-05-16T18:39:30.871Z"
   },
   {
    "duration": 6,
    "start_time": "2022-05-16T18:39:30.915Z"
   },
   {
    "duration": 87,
    "start_time": "2022-05-16T18:39:30.925Z"
   },
   {
    "duration": 46,
    "start_time": "2022-05-16T18:39:31.017Z"
   },
   {
    "duration": 28,
    "start_time": "2022-05-16T18:39:31.067Z"
   },
   {
    "duration": 29,
    "start_time": "2022-05-16T18:39:31.098Z"
   },
   {
    "duration": 3936,
    "start_time": "2022-05-16T18:39:31.130Z"
   },
   {
    "duration": 549,
    "start_time": "2022-05-16T18:39:35.069Z"
   },
   {
    "duration": 35,
    "start_time": "2022-05-16T18:39:35.621Z"
   },
   {
    "duration": 557,
    "start_time": "2022-05-16T18:39:35.658Z"
   },
   {
    "duration": 13,
    "start_time": "2022-05-16T18:39:36.217Z"
   },
   {
    "duration": 136,
    "start_time": "2022-05-16T18:39:36.232Z"
   },
   {
    "duration": 57,
    "start_time": "2022-05-16T18:39:36.371Z"
   },
   {
    "duration": 23,
    "start_time": "2022-05-16T18:40:53.831Z"
   },
   {
    "duration": 13,
    "start_time": "2022-05-16T18:42:00.210Z"
   },
   {
    "duration": 57,
    "start_time": "2022-05-16T18:42:07.839Z"
   },
   {
    "duration": 728,
    "start_time": "2022-05-16T18:43:24.458Z"
   },
   {
    "duration": 10,
    "start_time": "2022-05-16T18:44:39.747Z"
   },
   {
    "duration": 59,
    "start_time": "2022-05-16T18:44:45.358Z"
   },
   {
    "duration": 2420,
    "start_time": "2022-05-17T07:18:24.254Z"
   },
   {
    "duration": 30,
    "start_time": "2022-05-17T07:18:26.677Z"
   },
   {
    "duration": 16,
    "start_time": "2022-05-17T07:18:26.710Z"
   },
   {
    "duration": 63,
    "start_time": "2022-05-17T07:18:26.731Z"
   },
   {
    "duration": 40,
    "start_time": "2022-05-17T07:18:26.798Z"
   },
   {
    "duration": 21,
    "start_time": "2022-05-17T07:18:26.842Z"
   },
   {
    "duration": 6,
    "start_time": "2022-05-17T07:18:26.866Z"
   },
   {
    "duration": 3731,
    "start_time": "2022-05-17T07:18:26.875Z"
   },
   {
    "duration": 549,
    "start_time": "2022-05-17T07:18:30.609Z"
   },
   {
    "duration": 18,
    "start_time": "2022-05-17T07:18:31.161Z"
   },
   {
    "duration": 867,
    "start_time": "2022-05-17T07:18:31.181Z"
   },
   {
    "duration": 12,
    "start_time": "2022-05-17T07:18:32.050Z"
   },
   {
    "duration": 29,
    "start_time": "2022-05-17T07:18:32.065Z"
   },
   {
    "duration": 71,
    "start_time": "2022-05-17T07:18:32.096Z"
   },
   {
    "duration": 53,
    "start_time": "2022-05-17T07:55:13.551Z"
   },
   {
    "duration": 59,
    "start_time": "2022-05-17T07:57:00.273Z"
   },
   {
    "duration": 25,
    "start_time": "2022-05-17T07:57:17.959Z"
   },
   {
    "duration": 23,
    "start_time": "2022-05-17T07:59:29.839Z"
   },
   {
    "duration": 24,
    "start_time": "2022-05-17T07:59:46.343Z"
   },
   {
    "duration": 20,
    "start_time": "2022-05-17T08:00:07.256Z"
   },
   {
    "duration": 27,
    "start_time": "2022-05-17T08:00:15.533Z"
   },
   {
    "duration": 2772,
    "start_time": "2022-05-17T08:11:58.658Z"
   },
   {
    "duration": 1744,
    "start_time": "2022-05-17T08:29:17.044Z"
   },
   {
    "duration": 2107,
    "start_time": "2022-05-17T08:44:44.705Z"
   },
   {
    "duration": 31,
    "start_time": "2022-05-17T08:44:46.815Z"
   },
   {
    "duration": 10,
    "start_time": "2022-05-17T08:44:46.849Z"
   },
   {
    "duration": 60,
    "start_time": "2022-05-17T08:44:46.864Z"
   },
   {
    "duration": 42,
    "start_time": "2022-05-17T08:44:46.927Z"
   },
   {
    "duration": 15,
    "start_time": "2022-05-17T08:44:46.971Z"
   },
   {
    "duration": 6,
    "start_time": "2022-05-17T08:44:46.988Z"
   },
   {
    "duration": 4741,
    "start_time": "2022-05-17T08:44:46.996Z"
   },
   {
    "duration": 574,
    "start_time": "2022-05-17T08:44:51.741Z"
   },
   {
    "duration": 40,
    "start_time": "2022-05-17T08:44:52.321Z"
   },
   {
    "duration": 1283,
    "start_time": "2022-05-17T08:44:52.364Z"
   },
   {
    "duration": 23,
    "start_time": "2022-05-17T08:44:53.650Z"
   },
   {
    "duration": 13,
    "start_time": "2022-05-17T08:44:53.676Z"
   },
   {
    "duration": 121,
    "start_time": "2022-05-17T08:44:53.691Z"
   },
   {
    "duration": 46,
    "start_time": "2022-05-17T08:44:53.815Z"
   },
   {
    "duration": 3652,
    "start_time": "2022-05-17T08:44:53.864Z"
   },
   {
    "duration": 0,
    "start_time": "2022-05-17T08:44:57.518Z"
   },
   {
    "duration": 873,
    "start_time": "2022-05-17T08:45:25.673Z"
   },
   {
    "duration": 17,
    "start_time": "2022-05-17T08:46:48.564Z"
   },
   {
    "duration": 15,
    "start_time": "2022-05-17T08:48:12.406Z"
   },
   {
    "duration": 16,
    "start_time": "2022-05-17T08:48:25.558Z"
   },
   {
    "duration": 2034,
    "start_time": "2022-05-17T08:48:37.166Z"
   },
   {
    "duration": 29,
    "start_time": "2022-05-17T08:48:39.203Z"
   },
   {
    "duration": 19,
    "start_time": "2022-05-17T08:48:39.234Z"
   },
   {
    "duration": 95,
    "start_time": "2022-05-17T08:48:39.256Z"
   },
   {
    "duration": 25,
    "start_time": "2022-05-17T08:48:39.353Z"
   },
   {
    "duration": 52,
    "start_time": "2022-05-17T08:48:39.380Z"
   },
   {
    "duration": 41,
    "start_time": "2022-05-17T08:48:39.434Z"
   },
   {
    "duration": 3445,
    "start_time": "2022-05-17T08:48:39.477Z"
   },
   {
    "duration": 547,
    "start_time": "2022-05-17T08:48:42.924Z"
   },
   {
    "duration": 17,
    "start_time": "2022-05-17T08:48:43.475Z"
   },
   {
    "duration": 1041,
    "start_time": "2022-05-17T08:48:43.495Z"
   },
   {
    "duration": 22,
    "start_time": "2022-05-17T08:48:44.538Z"
   },
   {
    "duration": 10,
    "start_time": "2022-05-17T08:48:44.562Z"
   },
   {
    "duration": 87,
    "start_time": "2022-05-17T08:48:44.574Z"
   },
   {
    "duration": 24,
    "start_time": "2022-05-17T08:48:44.663Z"
   },
   {
    "duration": 3358,
    "start_time": "2022-05-17T08:48:44.689Z"
   },
   {
    "duration": 0,
    "start_time": "2022-05-17T08:48:48.050Z"
   },
   {
    "duration": 11,
    "start_time": "2022-05-17T08:49:20.414Z"
   },
   {
    "duration": 1998,
    "start_time": "2022-05-17T08:49:29.822Z"
   },
   {
    "duration": 31,
    "start_time": "2022-05-17T08:49:31.822Z"
   },
   {
    "duration": 6,
    "start_time": "2022-05-17T08:49:31.855Z"
   },
   {
    "duration": 53,
    "start_time": "2022-05-17T08:49:31.866Z"
   },
   {
    "duration": 44,
    "start_time": "2022-05-17T08:49:31.922Z"
   },
   {
    "duration": 30,
    "start_time": "2022-05-17T08:49:31.970Z"
   },
   {
    "duration": 7,
    "start_time": "2022-05-17T08:49:32.003Z"
   },
   {
    "duration": 3521,
    "start_time": "2022-05-17T08:49:32.012Z"
   },
   {
    "duration": 563,
    "start_time": "2022-05-17T08:49:35.535Z"
   },
   {
    "duration": 18,
    "start_time": "2022-05-17T08:49:36.102Z"
   },
   {
    "duration": 1038,
    "start_time": "2022-05-17T08:49:36.123Z"
   },
   {
    "duration": 14,
    "start_time": "2022-05-17T08:49:37.164Z"
   },
   {
    "duration": 14,
    "start_time": "2022-05-17T08:49:37.180Z"
   },
   {
    "duration": 87,
    "start_time": "2022-05-17T08:49:37.197Z"
   },
   {
    "duration": 30,
    "start_time": "2022-05-17T08:49:37.286Z"
   },
   {
    "duration": 3324,
    "start_time": "2022-05-17T08:49:37.318Z"
   },
   {
    "duration": 0,
    "start_time": "2022-05-17T08:49:40.645Z"
   },
   {
    "duration": 2651,
    "start_time": "2022-05-17T08:56:15.515Z"
   },
   {
    "duration": 31,
    "start_time": "2022-05-17T08:56:18.168Z"
   },
   {
    "duration": 6,
    "start_time": "2022-05-17T08:56:18.201Z"
   },
   {
    "duration": 67,
    "start_time": "2022-05-17T08:56:18.210Z"
   },
   {
    "duration": 17,
    "start_time": "2022-05-17T08:56:18.280Z"
   },
   {
    "duration": 16,
    "start_time": "2022-05-17T08:56:18.300Z"
   },
   {
    "duration": 42,
    "start_time": "2022-05-17T08:56:18.319Z"
   },
   {
    "duration": 3523,
    "start_time": "2022-05-17T08:56:18.364Z"
   },
   {
    "duration": 669,
    "start_time": "2022-05-17T08:56:21.890Z"
   },
   {
    "duration": 19,
    "start_time": "2022-05-17T08:56:22.563Z"
   },
   {
    "duration": 1033,
    "start_time": "2022-05-17T08:56:22.585Z"
   },
   {
    "duration": 16,
    "start_time": "2022-05-17T08:56:23.621Z"
   },
   {
    "duration": 13,
    "start_time": "2022-05-17T08:56:23.660Z"
   },
   {
    "duration": 83,
    "start_time": "2022-05-17T08:56:23.675Z"
   },
   {
    "duration": 23,
    "start_time": "2022-05-17T08:56:23.761Z"
   },
   {
    "duration": 3384,
    "start_time": "2022-05-17T08:56:23.787Z"
   },
   {
    "duration": 0,
    "start_time": "2022-05-17T08:56:27.173Z"
   },
   {
    "duration": 35,
    "start_time": "2022-05-17T08:56:53.545Z"
   },
   {
    "duration": 27,
    "start_time": "2022-05-17T08:57:25.147Z"
   },
   {
    "duration": 5,
    "start_time": "2022-05-17T08:57:53.027Z"
   },
   {
    "duration": 25,
    "start_time": "2022-05-17T08:58:03.827Z"
   },
   {
    "duration": 2248,
    "start_time": "2022-05-17T08:58:14.221Z"
   },
   {
    "duration": 40,
    "start_time": "2022-05-17T08:58:16.472Z"
   },
   {
    "duration": 6,
    "start_time": "2022-05-17T08:58:16.515Z"
   },
   {
    "duration": 88,
    "start_time": "2022-05-17T08:58:16.529Z"
   },
   {
    "duration": 38,
    "start_time": "2022-05-17T08:58:16.624Z"
   },
   {
    "duration": 17,
    "start_time": "2022-05-17T08:58:16.668Z"
   },
   {
    "duration": 6,
    "start_time": "2022-05-17T08:58:16.689Z"
   },
   {
    "duration": 5037,
    "start_time": "2022-05-17T08:58:16.698Z"
   },
   {
    "duration": 945,
    "start_time": "2022-05-17T08:58:21.738Z"
   },
   {
    "duration": 30,
    "start_time": "2022-05-17T08:58:22.689Z"
   },
   {
    "duration": 1220,
    "start_time": "2022-05-17T08:58:22.722Z"
   },
   {
    "duration": 26,
    "start_time": "2022-05-17T08:58:23.945Z"
   },
   {
    "duration": 34,
    "start_time": "2022-05-17T08:58:23.975Z"
   },
   {
    "duration": 118,
    "start_time": "2022-05-17T08:58:24.012Z"
   },
   {
    "duration": 38,
    "start_time": "2022-05-17T08:58:24.134Z"
   },
   {
    "duration": 3602,
    "start_time": "2022-05-17T08:58:24.175Z"
   },
   {
    "duration": 0,
    "start_time": "2022-05-17T08:58:27.779Z"
   },
   {
    "duration": 35,
    "start_time": "2022-05-17T08:59:15.133Z"
   },
   {
    "duration": 2233,
    "start_time": "2022-05-17T08:59:56.131Z"
   },
   {
    "duration": 43,
    "start_time": "2022-05-17T08:59:58.367Z"
   },
   {
    "duration": 8,
    "start_time": "2022-05-17T08:59:58.412Z"
   },
   {
    "duration": 89,
    "start_time": "2022-05-17T08:59:58.424Z"
   },
   {
    "duration": 43,
    "start_time": "2022-05-17T08:59:58.516Z"
   },
   {
    "duration": 15,
    "start_time": "2022-05-17T08:59:58.562Z"
   },
   {
    "duration": 13,
    "start_time": "2022-05-17T08:59:58.580Z"
   },
   {
    "duration": 4143,
    "start_time": "2022-05-17T08:59:58.595Z"
   },
   {
    "duration": 570,
    "start_time": "2022-05-17T09:00:02.741Z"
   },
   {
    "duration": 21,
    "start_time": "2022-05-17T09:00:03.315Z"
   },
   {
    "duration": 1448,
    "start_time": "2022-05-17T09:00:03.358Z"
   },
   {
    "duration": 17,
    "start_time": "2022-05-17T09:00:04.810Z"
   },
   {
    "duration": 69,
    "start_time": "2022-05-17T09:00:04.829Z"
   },
   {
    "duration": 117,
    "start_time": "2022-05-17T09:00:04.901Z"
   },
   {
    "duration": 26,
    "start_time": "2022-05-17T09:00:05.021Z"
   },
   {
    "duration": 3574,
    "start_time": "2022-05-17T09:00:05.060Z"
   },
   {
    "duration": 0,
    "start_time": "2022-05-17T09:00:08.637Z"
   },
   {
    "duration": 95,
    "start_time": "2022-05-17T09:02:58.939Z"
   },
   {
    "duration": 212,
    "start_time": "2022-05-17T09:03:03.875Z"
   },
   {
    "duration": 29,
    "start_time": "2022-05-17T09:03:20.621Z"
   },
   {
    "duration": 726,
    "start_time": "2022-05-17T09:03:59.388Z"
   },
   {
    "duration": 15,
    "start_time": "2022-05-17T09:04:09.953Z"
   },
   {
    "duration": 2869,
    "start_time": "2022-05-17T09:04:27.321Z"
   },
   {
    "duration": 51,
    "start_time": "2022-05-17T09:04:30.195Z"
   },
   {
    "duration": 13,
    "start_time": "2022-05-17T09:04:30.250Z"
   },
   {
    "duration": 99,
    "start_time": "2022-05-17T09:04:30.268Z"
   },
   {
    "duration": 21,
    "start_time": "2022-05-17T09:04:30.371Z"
   },
   {
    "duration": 17,
    "start_time": "2022-05-17T09:04:30.397Z"
   },
   {
    "duration": 42,
    "start_time": "2022-05-17T09:04:30.417Z"
   },
   {
    "duration": 4797,
    "start_time": "2022-05-17T09:04:30.462Z"
   },
   {
    "duration": 805,
    "start_time": "2022-05-17T09:04:35.263Z"
   },
   {
    "duration": 20,
    "start_time": "2022-05-17T09:04:36.073Z"
   },
   {
    "duration": 1316,
    "start_time": "2022-05-17T09:04:36.096Z"
   },
   {
    "duration": 14,
    "start_time": "2022-05-17T09:04:37.415Z"
   },
   {
    "duration": 505,
    "start_time": "2022-05-17T09:04:37.432Z"
   },
   {
    "duration": 130,
    "start_time": "2022-05-17T09:04:37.941Z"
   },
   {
    "duration": 25,
    "start_time": "2022-05-17T09:04:38.074Z"
   },
   {
    "duration": 5778,
    "start_time": "2022-05-17T09:04:38.102Z"
   },
   {
    "duration": 0,
    "start_time": "2022-05-17T09:04:43.884Z"
   },
   {
    "duration": 20,
    "start_time": "2022-05-17T09:08:57.274Z"
   },
   {
    "duration": 751,
    "start_time": "2022-05-17T09:09:01.206Z"
   },
   {
    "duration": 2408,
    "start_time": "2022-05-17T09:09:20.876Z"
   },
   {
    "duration": 32,
    "start_time": "2022-05-17T09:09:23.288Z"
   },
   {
    "duration": 6,
    "start_time": "2022-05-17T09:09:23.322Z"
   },
   {
    "duration": 73,
    "start_time": "2022-05-17T09:09:23.331Z"
   },
   {
    "duration": 20,
    "start_time": "2022-05-17T09:09:23.408Z"
   },
   {
    "duration": 50,
    "start_time": "2022-05-17T09:09:23.431Z"
   },
   {
    "duration": 18,
    "start_time": "2022-05-17T09:09:23.484Z"
   },
   {
    "duration": 4115,
    "start_time": "2022-05-17T09:09:23.505Z"
   },
   {
    "duration": 694,
    "start_time": "2022-05-17T09:09:27.624Z"
   },
   {
    "duration": 19,
    "start_time": "2022-05-17T09:09:28.321Z"
   },
   {
    "duration": 936,
    "start_time": "2022-05-17T09:09:28.343Z"
   },
   {
    "duration": 12,
    "start_time": "2022-05-17T09:09:29.282Z"
   },
   {
    "duration": 22,
    "start_time": "2022-05-17T09:09:29.296Z"
   },
   {
    "duration": 100,
    "start_time": "2022-05-17T09:09:29.322Z"
   },
   {
    "duration": 33,
    "start_time": "2022-05-17T09:09:29.425Z"
   },
   {
    "duration": 3355,
    "start_time": "2022-05-17T09:09:29.462Z"
   },
   {
    "duration": 2400,
    "start_time": "2022-05-17T09:09:32.820Z"
   },
   {
    "duration": 20,
    "start_time": "2022-05-17T11:16:37.462Z"
   },
   {
    "duration": 168,
    "start_time": "2022-05-17T11:17:56.656Z"
   },
   {
    "duration": 2818,
    "start_time": "2022-05-17T11:18:04.240Z"
   },
   {
    "duration": 82,
    "start_time": "2022-05-17T11:18:07.091Z"
   },
   {
    "duration": 6,
    "start_time": "2022-05-17T11:18:07.178Z"
   },
   {
    "duration": 67,
    "start_time": "2022-05-17T11:18:07.186Z"
   },
   {
    "duration": 24,
    "start_time": "2022-05-17T11:18:07.260Z"
   },
   {
    "duration": 16,
    "start_time": "2022-05-17T11:18:07.287Z"
   },
   {
    "duration": 12,
    "start_time": "2022-05-17T11:18:07.305Z"
   },
   {
    "duration": 4849,
    "start_time": "2022-05-17T11:18:07.320Z"
   },
   {
    "duration": 559,
    "start_time": "2022-05-17T11:18:12.172Z"
   },
   {
    "duration": 33,
    "start_time": "2022-05-17T11:18:12.733Z"
   },
   {
    "duration": 1228,
    "start_time": "2022-05-17T11:18:12.768Z"
   },
   {
    "duration": 18,
    "start_time": "2022-05-17T11:18:13.999Z"
   },
   {
    "duration": 53,
    "start_time": "2022-05-17T11:18:14.019Z"
   },
   {
    "duration": 111,
    "start_time": "2022-05-17T11:18:14.075Z"
   },
   {
    "duration": 32,
    "start_time": "2022-05-17T11:18:14.189Z"
   },
   {
    "duration": 3001,
    "start_time": "2022-05-17T11:18:14.224Z"
   },
   {
    "duration": 2461,
    "start_time": "2022-05-17T11:18:17.227Z"
   },
   {
    "duration": 21,
    "start_time": "2022-05-17T11:18:19.691Z"
   },
   {
    "duration": 168,
    "start_time": "2022-05-17T11:21:25.335Z"
   },
   {
    "duration": 2012,
    "start_time": "2022-05-17T11:21:34.093Z"
   },
   {
    "duration": 28,
    "start_time": "2022-05-17T11:21:36.108Z"
   },
   {
    "duration": 5,
    "start_time": "2022-05-17T11:21:36.139Z"
   },
   {
    "duration": 46,
    "start_time": "2022-05-17T11:21:36.158Z"
   },
   {
    "duration": 18,
    "start_time": "2022-05-17T11:21:36.207Z"
   },
   {
    "duration": 44,
    "start_time": "2022-05-17T11:21:36.227Z"
   },
   {
    "duration": 5,
    "start_time": "2022-05-17T11:21:36.273Z"
   },
   {
    "duration": 3745,
    "start_time": "2022-05-17T11:21:36.280Z"
   },
   {
    "duration": 545,
    "start_time": "2022-05-17T11:21:40.028Z"
   },
   {
    "duration": 22,
    "start_time": "2022-05-17T11:21:40.575Z"
   },
   {
    "duration": 1180,
    "start_time": "2022-05-17T11:21:40.599Z"
   },
   {
    "duration": 16,
    "start_time": "2022-05-17T11:21:41.781Z"
   },
   {
    "duration": 23,
    "start_time": "2022-05-17T11:21:41.799Z"
   },
   {
    "duration": 81,
    "start_time": "2022-05-17T11:21:41.826Z"
   },
   {
    "duration": 21,
    "start_time": "2022-05-17T11:21:41.910Z"
   },
   {
    "duration": 2632,
    "start_time": "2022-05-17T11:21:41.933Z"
   },
   {
    "duration": 1573,
    "start_time": "2022-05-17T11:21:44.567Z"
   },
   {
    "duration": 6,
    "start_time": "2022-05-17T11:21:46.142Z"
   },
   {
    "duration": 158,
    "start_time": "2022-05-17T11:22:10.957Z"
   },
   {
    "duration": 4,
    "start_time": "2022-05-17T11:22:36.893Z"
   },
   {
    "duration": 12,
    "start_time": "2022-05-17T11:22:41.111Z"
   },
   {
    "duration": 11,
    "start_time": "2022-05-17T11:38:46.020Z"
   },
   {
    "duration": 122,
    "start_time": "2022-05-17T11:41:28.711Z"
   },
   {
    "duration": 408556,
    "start_time": "2022-05-17T11:41:36.247Z"
   },
   {
    "duration": 2341,
    "start_time": "2022-05-17T12:15:00.621Z"
   },
   {
    "duration": 25,
    "start_time": "2022-05-17T12:15:43.070Z"
   },
   {
    "duration": 2019,
    "start_time": "2022-05-17T12:23:24.645Z"
   },
   {
    "duration": 24,
    "start_time": "2022-05-17T12:23:27.021Z"
   },
   {
    "duration": 1887,
    "start_time": "2022-05-17T12:23:55.092Z"
   },
   {
    "duration": 25,
    "start_time": "2022-05-17T12:23:57.829Z"
   },
   {
    "duration": 1970,
    "start_time": "2022-05-17T12:29:00.710Z"
   },
   {
    "duration": 26,
    "start_time": "2022-05-17T12:29:02.761Z"
   },
   {
    "duration": 2065,
    "start_time": "2022-05-17T12:29:22.511Z"
   },
   {
    "duration": 109,
    "start_time": "2022-05-17T12:29:24.582Z"
   },
   {
    "duration": 3078,
    "start_time": "2022-05-17T12:32:30.244Z"
   },
   {
    "duration": 6,
    "start_time": "2022-05-17T12:46:50.709Z"
   },
   {
    "duration": 39,
    "start_time": "2022-05-17T12:46:55.294Z"
   },
   {
    "duration": 2218,
    "start_time": "2022-05-17T12:47:37.644Z"
   },
   {
    "duration": 32,
    "start_time": "2022-05-17T12:47:39.866Z"
   },
   {
    "duration": 5,
    "start_time": "2022-05-17T12:47:39.900Z"
   },
   {
    "duration": 70,
    "start_time": "2022-05-17T12:47:39.908Z"
   },
   {
    "duration": 16,
    "start_time": "2022-05-17T12:47:39.981Z"
   },
   {
    "duration": 20,
    "start_time": "2022-05-17T12:47:39.999Z"
   },
   {
    "duration": 17,
    "start_time": "2022-05-17T12:47:40.021Z"
   },
   {
    "duration": 522,
    "start_time": "2022-05-17T12:47:40.041Z"
   },
   {
    "duration": 0,
    "start_time": "2022-05-17T12:47:40.569Z"
   },
   {
    "duration": 0,
    "start_time": "2022-05-17T12:47:40.571Z"
   },
   {
    "duration": 0,
    "start_time": "2022-05-17T12:47:40.572Z"
   },
   {
    "duration": 0,
    "start_time": "2022-05-17T12:47:40.575Z"
   },
   {
    "duration": 0,
    "start_time": "2022-05-17T12:47:40.577Z"
   },
   {
    "duration": 0,
    "start_time": "2022-05-17T12:47:40.579Z"
   },
   {
    "duration": 0,
    "start_time": "2022-05-17T12:47:40.582Z"
   },
   {
    "duration": 0,
    "start_time": "2022-05-17T12:47:40.584Z"
   },
   {
    "duration": 0,
    "start_time": "2022-05-17T12:47:40.586Z"
   },
   {
    "duration": 0,
    "start_time": "2022-05-17T12:47:40.588Z"
   },
   {
    "duration": 0,
    "start_time": "2022-05-17T12:47:40.590Z"
   },
   {
    "duration": 0,
    "start_time": "2022-05-17T12:47:40.592Z"
   },
   {
    "duration": 0,
    "start_time": "2022-05-17T12:47:40.594Z"
   },
   {
    "duration": 0,
    "start_time": "2022-05-17T12:47:40.596Z"
   },
   {
    "duration": 0,
    "start_time": "2022-05-17T12:47:40.599Z"
   },
   {
    "duration": 6,
    "start_time": "2022-05-17T12:52:11.721Z"
   },
   {
    "duration": 3198,
    "start_time": "2022-05-17T12:52:15.233Z"
   },
   {
    "duration": 6,
    "start_time": "2022-05-17T12:53:24.676Z"
   },
   {
    "duration": 282,
    "start_time": "2022-05-17T12:53:26.884Z"
   },
   {
    "duration": 9,
    "start_time": "2022-05-17T12:54:36.694Z"
   },
   {
    "duration": 282,
    "start_time": "2022-05-17T12:54:39.470Z"
   },
   {
    "duration": 8,
    "start_time": "2022-05-17T12:55:48.896Z"
   },
   {
    "duration": 250,
    "start_time": "2022-05-17T12:55:51.160Z"
   },
   {
    "duration": 5,
    "start_time": "2022-05-17T12:56:25.873Z"
   },
   {
    "duration": 3481,
    "start_time": "2022-05-17T12:56:27.826Z"
   },
   {
    "duration": 6,
    "start_time": "2022-05-17T13:02:07.250Z"
   },
   {
    "duration": 294,
    "start_time": "2022-05-17T13:02:10.451Z"
   },
   {
    "duration": 6,
    "start_time": "2022-05-17T13:05:59.089Z"
   },
   {
    "duration": 4009,
    "start_time": "2022-05-17T13:06:02.106Z"
   },
   {
    "duration": 2628,
    "start_time": "2022-05-17T13:08:36.782Z"
   },
   {
    "duration": 36,
    "start_time": "2022-05-17T13:08:39.415Z"
   },
   {
    "duration": 4,
    "start_time": "2022-05-17T13:08:39.454Z"
   },
   {
    "duration": 53,
    "start_time": "2022-05-17T13:08:39.462Z"
   },
   {
    "duration": 16,
    "start_time": "2022-05-17T13:08:39.518Z"
   },
   {
    "duration": 40,
    "start_time": "2022-05-17T13:08:39.537Z"
   },
   {
    "duration": 5,
    "start_time": "2022-05-17T13:08:39.579Z"
   },
   {
    "duration": 3654,
    "start_time": "2022-05-17T13:08:39.587Z"
   },
   {
    "duration": 856,
    "start_time": "2022-05-17T13:08:43.244Z"
   },
   {
    "duration": 26,
    "start_time": "2022-05-17T13:08:44.105Z"
   },
   {
    "duration": 874,
    "start_time": "2022-05-17T13:08:44.134Z"
   },
   {
    "duration": 17,
    "start_time": "2022-05-17T13:08:45.012Z"
   },
   {
    "duration": 59,
    "start_time": "2022-05-17T13:08:45.031Z"
   },
   {
    "duration": 94,
    "start_time": "2022-05-17T13:08:45.093Z"
   },
   {
    "duration": 31,
    "start_time": "2022-05-17T13:08:45.190Z"
   },
   {
    "duration": 2571,
    "start_time": "2022-05-17T13:08:45.224Z"
   },
   {
    "duration": 1699,
    "start_time": "2022-05-17T13:08:47.797Z"
   },
   {
    "duration": 6,
    "start_time": "2022-05-17T13:08:49.498Z"
   },
   {
    "duration": 16,
    "start_time": "2022-05-17T13:08:49.507Z"
   },
   {
    "duration": 4,
    "start_time": "2022-05-17T13:08:49.526Z"
   },
   {
    "duration": 2636,
    "start_time": "2022-05-17T13:08:49.532Z"
   },
   {
    "duration": 33,
    "start_time": "2022-05-17T13:08:52.171Z"
   },
   {
    "duration": 2551,
    "start_time": "2022-05-17T13:08:52.258Z"
   },
   {
    "duration": 6,
    "start_time": "2022-05-17T13:22:22.339Z"
   },
   {
    "duration": 2102,
    "start_time": "2022-05-17T13:22:29.357Z"
   },
   {
    "duration": 37,
    "start_time": "2022-05-17T13:22:31.463Z"
   },
   {
    "duration": 15,
    "start_time": "2022-05-17T13:22:31.503Z"
   },
   {
    "duration": 80,
    "start_time": "2022-05-17T13:22:31.522Z"
   },
   {
    "duration": 18,
    "start_time": "2022-05-17T13:22:31.605Z"
   },
   {
    "duration": 44,
    "start_time": "2022-05-17T13:22:31.626Z"
   },
   {
    "duration": 29,
    "start_time": "2022-05-17T13:22:31.673Z"
   },
   {
    "duration": 4751,
    "start_time": "2022-05-17T13:22:31.704Z"
   },
   {
    "duration": 815,
    "start_time": "2022-05-17T13:22:36.457Z"
   },
   {
    "duration": 20,
    "start_time": "2022-05-17T13:22:37.277Z"
   },
   {
    "duration": 853,
    "start_time": "2022-05-17T13:22:37.299Z"
   },
   {
    "duration": 11,
    "start_time": "2022-05-17T13:22:38.159Z"
   },
   {
    "duration": 22,
    "start_time": "2022-05-17T13:22:38.172Z"
   },
   {
    "duration": 89,
    "start_time": "2022-05-17T13:22:38.197Z"
   },
   {
    "duration": 21,
    "start_time": "2022-05-17T13:22:38.288Z"
   },
   {
    "duration": 2663,
    "start_time": "2022-05-17T13:22:38.311Z"
   },
   {
    "duration": 1667,
    "start_time": "2022-05-17T13:22:40.977Z"
   },
   {
    "duration": 5,
    "start_time": "2022-05-17T13:22:42.647Z"
   },
   {
    "duration": 13,
    "start_time": "2022-05-17T13:22:42.655Z"
   },
   {
    "duration": 4,
    "start_time": "2022-05-17T13:22:42.670Z"
   },
   {
    "duration": 2688,
    "start_time": "2022-05-17T13:22:42.677Z"
   },
   {
    "duration": 32,
    "start_time": "2022-05-17T13:22:45.367Z"
   },
   {
    "duration": 4345,
    "start_time": "2022-05-17T13:22:45.402Z"
   },
   {
    "duration": 2259,
    "start_time": "2022-05-17T13:26:09.119Z"
   },
   {
    "duration": 30,
    "start_time": "2022-05-17T13:26:11.381Z"
   },
   {
    "duration": 7,
    "start_time": "2022-05-17T13:26:11.414Z"
   },
   {
    "duration": 71,
    "start_time": "2022-05-17T13:26:11.425Z"
   },
   {
    "duration": 18,
    "start_time": "2022-05-17T13:26:11.500Z"
   },
   {
    "duration": 47,
    "start_time": "2022-05-17T13:26:11.521Z"
   },
   {
    "duration": 18,
    "start_time": "2022-05-17T13:26:11.571Z"
   },
   {
    "duration": 3230,
    "start_time": "2022-05-17T13:26:11.592Z"
   },
   {
    "duration": 559,
    "start_time": "2022-05-17T13:26:14.824Z"
   },
   {
    "duration": 21,
    "start_time": "2022-05-17T13:26:15.387Z"
   },
   {
    "duration": 992,
    "start_time": "2022-05-17T13:26:15.411Z"
   },
   {
    "duration": 12,
    "start_time": "2022-05-17T13:26:16.406Z"
   },
   {
    "duration": 43,
    "start_time": "2022-05-17T13:26:16.420Z"
   },
   {
    "duration": 94,
    "start_time": "2022-05-17T13:26:16.466Z"
   },
   {
    "duration": 31,
    "start_time": "2022-05-17T13:26:16.563Z"
   },
   {
    "duration": 3108,
    "start_time": "2022-05-17T13:26:16.596Z"
   },
   {
    "duration": 1645,
    "start_time": "2022-05-17T13:26:19.707Z"
   },
   {
    "duration": 7,
    "start_time": "2022-05-17T13:26:21.355Z"
   },
   {
    "duration": 16,
    "start_time": "2022-05-17T13:26:21.364Z"
   },
   {
    "duration": 4,
    "start_time": "2022-05-17T13:26:21.383Z"
   },
   {
    "duration": 2269,
    "start_time": "2022-05-17T13:26:21.390Z"
   },
   {
    "duration": 26,
    "start_time": "2022-05-17T13:26:23.662Z"
   },
   {
    "duration": 2541,
    "start_time": "2022-05-17T13:26:23.691Z"
   },
   {
    "duration": 1219,
    "start_time": "2022-05-18T06:53:08.346Z"
   },
   {
    "duration": 27,
    "start_time": "2022-05-18T06:53:09.566Z"
   },
   {
    "duration": 3,
    "start_time": "2022-05-18T06:53:09.595Z"
   },
   {
    "duration": 31,
    "start_time": "2022-05-18T06:53:09.599Z"
   },
   {
    "duration": 9,
    "start_time": "2022-05-18T06:53:09.632Z"
   },
   {
    "duration": 21,
    "start_time": "2022-05-18T06:53:09.642Z"
   },
   {
    "duration": 3,
    "start_time": "2022-05-18T06:53:09.664Z"
   },
   {
    "duration": 2029,
    "start_time": "2022-05-18T06:53:09.668Z"
   },
   {
    "duration": 314,
    "start_time": "2022-05-18T06:53:11.698Z"
   },
   {
    "duration": 12,
    "start_time": "2022-05-18T06:53:12.014Z"
   },
   {
    "duration": 420,
    "start_time": "2022-05-18T06:53:12.027Z"
   },
   {
    "duration": 12,
    "start_time": "2022-05-18T06:53:12.449Z"
   },
   {
    "duration": 15,
    "start_time": "2022-05-18T06:53:12.462Z"
   },
   {
    "duration": 36,
    "start_time": "2022-05-18T06:53:12.479Z"
   },
   {
    "duration": 13,
    "start_time": "2022-05-18T06:53:12.517Z"
   },
   {
    "duration": 1710,
    "start_time": "2022-05-18T06:53:12.532Z"
   },
   {
    "duration": 960,
    "start_time": "2022-05-18T06:53:14.244Z"
   },
   {
    "duration": 4,
    "start_time": "2022-05-18T06:53:15.205Z"
   },
   {
    "duration": 12,
    "start_time": "2022-05-18T06:53:15.210Z"
   },
   {
    "duration": 2,
    "start_time": "2022-05-18T06:53:15.223Z"
   },
   {
    "duration": 1134,
    "start_time": "2022-05-18T06:53:15.227Z"
   },
   {
    "duration": 107,
    "start_time": "2022-05-18T06:53:16.363Z"
   },
   {
    "duration": 1766,
    "start_time": "2022-05-18T06:53:16.472Z"
   },
   {
    "duration": 113,
    "start_time": "2022-05-18T07:06:40.186Z"
   },
   {
    "duration": 3,
    "start_time": "2022-05-18T07:09:24.100Z"
   },
   {
    "duration": 59,
    "start_time": "2022-05-18T07:10:01.246Z"
   },
   {
    "duration": 42,
    "start_time": "2022-05-18T07:11:00.280Z"
   },
   {
    "duration": 57,
    "start_time": "2022-05-18T07:11:19.064Z"
   },
   {
    "duration": 1225,
    "start_time": "2022-05-18T07:12:46.699Z"
   },
   {
    "duration": 31,
    "start_time": "2022-05-18T07:12:47.926Z"
   },
   {
    "duration": 3,
    "start_time": "2022-05-18T07:12:47.959Z"
   },
   {
    "duration": 48,
    "start_time": "2022-05-18T07:12:47.965Z"
   },
   {
    "duration": 10,
    "start_time": "2022-05-18T07:12:48.015Z"
   },
   {
    "duration": 11,
    "start_time": "2022-05-18T07:12:48.027Z"
   },
   {
    "duration": 15,
    "start_time": "2022-05-18T07:12:48.039Z"
   },
   {
    "duration": 2113,
    "start_time": "2022-05-18T07:12:48.059Z"
   },
   {
    "duration": 317,
    "start_time": "2022-05-18T07:12:50.173Z"
   },
   {
    "duration": 13,
    "start_time": "2022-05-18T07:12:50.493Z"
   },
   {
    "duration": 456,
    "start_time": "2022-05-18T07:12:50.508Z"
   },
   {
    "duration": 9,
    "start_time": "2022-05-18T07:12:50.966Z"
   },
   {
    "duration": 17,
    "start_time": "2022-05-18T07:12:50.976Z"
   },
   {
    "duration": 49,
    "start_time": "2022-05-18T07:12:50.995Z"
   },
   {
    "duration": 27,
    "start_time": "2022-05-18T07:12:51.046Z"
   },
   {
    "duration": 93,
    "start_time": "2022-05-18T07:12:51.075Z"
   },
   {
    "duration": 1675,
    "start_time": "2022-05-18T07:12:51.169Z"
   },
   {
    "duration": 1018,
    "start_time": "2022-05-18T07:12:52.846Z"
   },
   {
    "duration": 3,
    "start_time": "2022-05-18T07:12:53.866Z"
   },
   {
    "duration": 13,
    "start_time": "2022-05-18T07:12:53.871Z"
   },
   {
    "duration": 3,
    "start_time": "2022-05-18T07:12:53.885Z"
   },
   {
    "duration": 1274,
    "start_time": "2022-05-18T07:12:53.889Z"
   },
   {
    "duration": 106,
    "start_time": "2022-05-18T07:12:55.165Z"
   },
   {
    "duration": 1867,
    "start_time": "2022-05-18T07:12:55.273Z"
   },
   {
    "duration": 10,
    "start_time": "2022-05-18T07:17:57.484Z"
   },
   {
    "duration": 134,
    "start_time": "2022-05-18T07:32:22.843Z"
   },
   {
    "duration": 3,
    "start_time": "2022-05-18T07:32:41.490Z"
   },
   {
    "duration": 19,
    "start_time": "2022-05-18T07:32:47.304Z"
   },
   {
    "duration": 22,
    "start_time": "2022-05-18T07:34:12.920Z"
   },
   {
    "duration": 10,
    "start_time": "2022-05-18T07:35:28.680Z"
   },
   {
    "duration": 9,
    "start_time": "2022-05-18T07:45:26.819Z"
   },
   {
    "duration": 10,
    "start_time": "2022-05-18T07:46:00.508Z"
   },
   {
    "duration": 10,
    "start_time": "2022-05-18T07:46:06.914Z"
   },
   {
    "duration": 11,
    "start_time": "2022-05-18T07:46:34.071Z"
   },
   {
    "duration": 10,
    "start_time": "2022-05-18T07:47:03.845Z"
   },
   {
    "duration": 10,
    "start_time": "2022-05-18T07:47:13.196Z"
   },
   {
    "duration": 2002,
    "start_time": "2022-05-19T12:37:25.229Z"
   },
   {
    "duration": 46,
    "start_time": "2022-05-19T12:37:27.234Z"
   },
   {
    "duration": 7,
    "start_time": "2022-05-19T12:37:27.283Z"
   },
   {
    "duration": 50,
    "start_time": "2022-05-19T12:37:27.294Z"
   },
   {
    "duration": 17,
    "start_time": "2022-05-19T12:37:27.346Z"
   },
   {
    "duration": 31,
    "start_time": "2022-05-19T12:37:27.367Z"
   },
   {
    "duration": 5,
    "start_time": "2022-05-19T12:37:27.399Z"
   },
   {
    "duration": 3089,
    "start_time": "2022-05-19T12:37:27.407Z"
   },
   {
    "duration": 468,
    "start_time": "2022-05-19T12:37:30.498Z"
   },
   {
    "duration": 28,
    "start_time": "2022-05-19T12:37:30.970Z"
   },
   {
    "duration": 588,
    "start_time": "2022-05-19T12:37:31.000Z"
   },
   {
    "duration": 10,
    "start_time": "2022-05-19T12:37:31.598Z"
   },
   {
    "duration": 22,
    "start_time": "2022-05-19T12:37:31.610Z"
   },
   {
    "duration": 58,
    "start_time": "2022-05-19T12:37:31.634Z"
   },
   {
    "duration": 137,
    "start_time": "2022-05-19T12:37:31.694Z"
   },
   {
    "duration": 2184,
    "start_time": "2022-05-19T12:37:31.833Z"
   },
   {
    "duration": 1387,
    "start_time": "2022-05-19T12:37:34.019Z"
   },
   {
    "duration": 4,
    "start_time": "2022-05-19T12:37:35.408Z"
   },
   {
    "duration": 16,
    "start_time": "2022-05-19T12:37:35.415Z"
   },
   {
    "duration": 325660,
    "start_time": "2022-05-19T12:37:35.433Z"
   },
   {
    "duration": 1608,
    "start_time": "2022-05-19T12:43:01.095Z"
   },
   {
    "duration": 98,
    "start_time": "2022-05-19T12:43:02.713Z"
   },
   {
    "duration": 1998,
    "start_time": "2022-05-19T12:43:02.813Z"
   },
   {
    "duration": 11,
    "start_time": "2022-05-19T12:43:04.812Z"
   },
   {
    "duration": 13,
    "start_time": "2022-05-19T12:43:04.825Z"
   },
   {
    "duration": 1585,
    "start_time": "2022-05-21T10:20:51.780Z"
   },
   {
    "duration": 172,
    "start_time": "2022-05-21T10:20:53.367Z"
   },
   {
    "duration": 5,
    "start_time": "2022-05-21T10:20:53.541Z"
   },
   {
    "duration": 54,
    "start_time": "2022-05-21T10:20:53.548Z"
   },
   {
    "duration": 20,
    "start_time": "2022-05-21T10:20:53.604Z"
   },
   {
    "duration": 17,
    "start_time": "2022-05-21T10:20:53.626Z"
   },
   {
    "duration": 13,
    "start_time": "2022-05-21T10:20:53.645Z"
   },
   {
    "duration": 2555,
    "start_time": "2022-05-21T10:20:53.659Z"
   },
   {
    "duration": 369,
    "start_time": "2022-05-21T10:20:56.217Z"
   },
   {
    "duration": 29,
    "start_time": "2022-05-21T10:20:56.588Z"
   },
   {
    "duration": 503,
    "start_time": "2022-05-21T10:20:56.619Z"
   },
   {
    "duration": 9,
    "start_time": "2022-05-21T10:20:57.124Z"
   },
   {
    "duration": 18,
    "start_time": "2022-05-21T10:20:57.135Z"
   },
   {
    "duration": 63,
    "start_time": "2022-05-21T10:20:57.156Z"
   },
   {
    "duration": 108,
    "start_time": "2022-05-21T10:20:57.221Z"
   },
   {
    "duration": 1979,
    "start_time": "2022-05-21T10:20:57.332Z"
   },
   {
    "duration": 1134,
    "start_time": "2022-05-21T10:20:59.313Z"
   },
   {
    "duration": 4,
    "start_time": "2022-05-21T10:21:00.449Z"
   },
   {
    "duration": 24,
    "start_time": "2022-05-21T10:21:00.454Z"
   },
   {
    "duration": 291646,
    "start_time": "2022-05-21T10:21:00.480Z"
   },
   {
    "duration": 1712,
    "start_time": "2022-05-21T10:25:52.129Z"
   },
   {
    "duration": 98,
    "start_time": "2022-05-21T10:25:53.842Z"
   },
   {
    "duration": 2220,
    "start_time": "2022-05-21T10:25:53.942Z"
   },
   {
    "duration": 12,
    "start_time": "2022-05-21T10:25:56.163Z"
   },
   {
    "duration": 31,
    "start_time": "2022-05-21T10:25:56.177Z"
   }
  ],
  "kernelspec": {
   "display_name": "Python 3 (ipykernel)",
   "language": "python",
   "name": "python3"
  },
  "language_info": {
   "codemirror_mode": {
    "name": "ipython",
    "version": 3
   },
   "file_extension": ".py",
   "mimetype": "text/x-python",
   "name": "python",
   "nbconvert_exporter": "python",
   "pygments_lexer": "ipython3",
   "version": "3.9.7"
  },
  "toc": {
   "base_numbering": 1,
   "nav_menu": {},
   "number_sections": true,
   "sideBar": true,
   "skip_h1_title": true,
   "title_cell": "Table of Contents",
   "title_sidebar": "Contents",
   "toc_cell": true,
   "toc_position": {},
   "toc_section_display": true,
   "toc_window_display": true
  }
 },
 "nbformat": 4,
 "nbformat_minor": 2
}
